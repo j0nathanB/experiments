{
 "cells": [
  {
   "cell_type": "code",
   "execution_count": 33,
   "id": "71668413",
   "metadata": {},
   "outputs": [],
   "source": [
    "import numpy as np\n",
    "import pandas as pd\n",
    "import plotly.express as px"
   ]
  },
  {
   "cell_type": "code",
   "execution_count": 8,
   "id": "7cfcdb96-f5e3-4273-bbb0-5766229f9f83",
   "metadata": {},
   "outputs": [],
   "source": [
    "df_1 = pd.read_csv('results/paul_results_1.csv')\n",
    "df_2 = pd.read_csv('results/paul_results_2.csv')\n",
    "df_3 = pd.read_csv('results/paul_results_3.csv')"
   ]
  },
  {
   "cell_type": "code",
   "execution_count": 34,
   "id": "15e00cae-c414-4958-b2b2-4a408ee67890",
   "metadata": {},
   "outputs": [
    {
     "data": {
      "application/vnd.plotly.v1+json": {
       "config": {
        "plotlyServerURL": "https://plot.ly"
       },
       "data": [
        {
         "alignmentgroup": "True",
         "bingroup": "x",
         "hovertemplate": "authenticity_score=%{x}<br>count=%{y}<extra></extra>",
         "legendgroup": "",
         "marker": {
          "color": "#636efa",
          "pattern": {
           "shape": ""
          }
         },
         "name": "",
         "nbinsx": 10,
         "offsetgroup": "",
         "orientation": "v",
         "showlegend": false,
         "type": "histogram",
         "x": [
          0.967540145,
          0.99121511,
          0.989950418,
          0.986101091,
          0.98910147,
          0.908060074,
          0.947104335,
          0.481392741,
          0.915134728,
          0.988811016,
          0.988564551,
          0.98722595,
          0.699460864,
          0.955991149,
          0.989690542,
          0.985634983,
          0.974094748,
          0.027845157,
          0.990116775,
          0.906749129,
          0.980145574,
          0.991005778,
          0.968637407,
          0.929462254,
          0.016947987,
          0.148966581,
          0.958087087,
          0.991629899,
          0.991514921,
          0.484760672,
          0.984019041,
          0.988554657,
          0.99162358,
          0.990902841,
          0.971179008,
          0.991816103,
          0.987097263,
          0.984796882,
          0.982137799,
          0.270594418,
          0.98963356,
          0.989686549,
          0.962669849,
          0.990246177,
          0.985175848,
          0.991397023,
          0.983762741,
          0.986420751,
          0.97783339,
          0.976131558,
          0.984503746,
          0.986664414,
          0.9871912,
          0.967695296,
          0.988000214,
          0.990499914,
          0.989816427,
          0.990042448,
          0.990476847,
          0.978104115,
          0.981680632,
          0.630124807,
          0.98797977,
          0.987241149,
          0.989836037,
          0.986413121,
          0.905328691,
          0.969932556,
          0.980619073,
          0.971399546,
          0.989874125,
          0.975512087,
          0.991237402,
          0.952589393,
          0.99129349,
          0.990424693,
          0.990236938,
          0.989063203,
          0.988710105,
          0.912668586,
          0.989453912,
          0.986549199,
          0.979048133,
          0.98669225,
          0.982577741,
          0.991302609,
          0.023619844,
          0.165622517,
          0.983971179,
          0.989927053,
          0.989980519,
          0.040323403,
          0.979465961,
          0.976845384,
          0.919743419,
          0.981524527,
          0.024250776,
          0.970446467,
          0.94612211,
          0.923878193,
          0.981236219,
          0.98305881,
          0.954658806,
          0.98472625,
          0.990834177,
          0.964661658,
          0.990851104,
          0.972136319,
          0.95505029,
          0.987454891,
          0.989662945,
          0.679730594,
          0.145116746,
          0.057267927,
          0.981123388,
          0.990038395,
          0.963668466,
          0.989243507,
          0.97295773,
          0.053044155,
          0.991070747,
          0.991292536,
          0.343632102,
          0.973244131,
          0.941323698,
          0.023205632,
          0.97139287,
          0.99159348,
          0.983361781,
          0.991231382,
          0.990284264,
          0.713056087,
          0.338724315,
          0.760696232,
          0.066783182,
          0.615120709,
          0.98616612,
          0.98197341,
          0.962532461,
          0.037981007,
          0.989860773,
          0.958607018,
          0.989839554,
          0.950871229,
          0.514085829,
          0.972402513,
          0.042288207,
          0.987805247,
          0.984905303,
          0.982435584,
          0.989680469,
          0.979046583,
          0.235652342,
          0.951659262,
          0.978784144,
          0.975530386,
          0.981853664,
          0.983025968,
          0.987231672,
          0.91452086,
          0.01770865,
          0.988106012,
          0.969701231,
          0.877995789,
          0.98370713,
          0.970067382,
          0.981364667,
          0.631006718,
          0.969765365,
          0.989776611,
          0.98512888,
          0.97354424,
          0.98374927,
          0.990119219,
          0.990141571,
          0.942505479,
          0.978265047,
          0.976258099,
          0.977263391,
          0.985361516,
          0.988209486,
          0.99026078,
          0.983210325,
          0.97282064,
          0.986985147,
          0.954464734,
          0.845242977,
          0.979434848,
          0.983131409,
          0.985839427,
          0.205131158,
          0.8948825,
          0.97700125,
          0.990246058,
          0.990663886,
          0.983579934,
          0.703861237,
          0.678865969,
          0.962608576,
          0.988221109,
          0.979649127,
          0.027399225,
          0.97422421,
          0.991386712,
          0.988429129,
          0.989542365,
          0.224474832,
          0.989532471,
          0.972800434,
          0.991193235,
          0.991199076,
          0.930262923,
          0.987563491,
          0.987487078,
          0.990111887,
          0.026780849,
          0.990112245,
          0.990809798,
          0.985884488,
          0.980413616,
          0.709250391,
          0.945977092,
          0.064250842,
          0.983195901,
          0.296530992,
          0.034510158,
          0.103475772,
          0.825383604,
          0.947757661,
          0.939784348,
          0.987437546,
          0.969321489,
          0.02374691,
          0.968679667,
          0.986089826,
          0.974083662,
          0.024525059,
          0.809863031,
          0.976376355,
          0.203671858,
          0.141262665,
          0.068212092,
          0.988825619,
          0.6073789,
          0.991316915,
          0.051497202,
          0.983307719,
          0.990806758,
          0.974651277,
          0.990325212,
          0.987671018,
          0.988159537,
          0.982346535,
          0.987941802,
          0.856731296,
          0.991104126,
          0.944956243,
          0.982245803,
          0.948680878,
          0.99018842,
          0.980431795,
          0.985888064,
          0.990055323,
          0.978996634,
          0.980980337,
          0.980291784,
          0.987682998,
          0.961356759,
          0.982466102,
          0.026774921,
          0.084976614,
          0.988780022,
          0.986141324,
          0.881886184,
          0.988513052,
          0.977630258,
          0.978651464,
          0.988219023,
          0.532571733,
          0.910520911,
          0.985151231,
          0.017022565,
          0.980843246,
          0.990503609,
          0.984009147,
          0.991069198,
          0.992008328,
          0.99135077,
          0.991780579,
          0.954397917,
          0.989727914,
          0.985623002,
          0.971098363,
          0.938215077,
          0.990492642,
          0.990481913,
          0.991067469
         ],
         "xaxis": "x",
         "yaxis": "y"
        }
       ],
       "layout": {
        "autosize": true,
        "barmode": "relative",
        "legend": {
         "tracegroupgap": 0
        },
        "margin": {
         "t": 60
        },
        "template": {
         "data": {
          "bar": [
           {
            "error_x": {
             "color": "#2a3f5f"
            },
            "error_y": {
             "color": "#2a3f5f"
            },
            "marker": {
             "line": {
              "color": "#E5ECF6",
              "width": 0.5
             },
             "pattern": {
              "fillmode": "overlay",
              "size": 10,
              "solidity": 0.2
             }
            },
            "type": "bar"
           }
          ],
          "barpolar": [
           {
            "marker": {
             "line": {
              "color": "#E5ECF6",
              "width": 0.5
             },
             "pattern": {
              "fillmode": "overlay",
              "size": 10,
              "solidity": 0.2
             }
            },
            "type": "barpolar"
           }
          ],
          "carpet": [
           {
            "aaxis": {
             "endlinecolor": "#2a3f5f",
             "gridcolor": "white",
             "linecolor": "white",
             "minorgridcolor": "white",
             "startlinecolor": "#2a3f5f"
            },
            "baxis": {
             "endlinecolor": "#2a3f5f",
             "gridcolor": "white",
             "linecolor": "white",
             "minorgridcolor": "white",
             "startlinecolor": "#2a3f5f"
            },
            "type": "carpet"
           }
          ],
          "choropleth": [
           {
            "colorbar": {
             "outlinewidth": 0,
             "ticks": ""
            },
            "type": "choropleth"
           }
          ],
          "contour": [
           {
            "colorbar": {
             "outlinewidth": 0,
             "ticks": ""
            },
            "colorscale": [
             [
              0,
              "#0d0887"
             ],
             [
              0.1111111111111111,
              "#46039f"
             ],
             [
              0.2222222222222222,
              "#7201a8"
             ],
             [
              0.3333333333333333,
              "#9c179e"
             ],
             [
              0.4444444444444444,
              "#bd3786"
             ],
             [
              0.5555555555555556,
              "#d8576b"
             ],
             [
              0.6666666666666666,
              "#ed7953"
             ],
             [
              0.7777777777777778,
              "#fb9f3a"
             ],
             [
              0.8888888888888888,
              "#fdca26"
             ],
             [
              1,
              "#f0f921"
             ]
            ],
            "type": "contour"
           }
          ],
          "contourcarpet": [
           {
            "colorbar": {
             "outlinewidth": 0,
             "ticks": ""
            },
            "type": "contourcarpet"
           }
          ],
          "heatmap": [
           {
            "colorbar": {
             "outlinewidth": 0,
             "ticks": ""
            },
            "colorscale": [
             [
              0,
              "#0d0887"
             ],
             [
              0.1111111111111111,
              "#46039f"
             ],
             [
              0.2222222222222222,
              "#7201a8"
             ],
             [
              0.3333333333333333,
              "#9c179e"
             ],
             [
              0.4444444444444444,
              "#bd3786"
             ],
             [
              0.5555555555555556,
              "#d8576b"
             ],
             [
              0.6666666666666666,
              "#ed7953"
             ],
             [
              0.7777777777777778,
              "#fb9f3a"
             ],
             [
              0.8888888888888888,
              "#fdca26"
             ],
             [
              1,
              "#f0f921"
             ]
            ],
            "type": "heatmap"
           }
          ],
          "heatmapgl": [
           {
            "colorbar": {
             "outlinewidth": 0,
             "ticks": ""
            },
            "colorscale": [
             [
              0,
              "#0d0887"
             ],
             [
              0.1111111111111111,
              "#46039f"
             ],
             [
              0.2222222222222222,
              "#7201a8"
             ],
             [
              0.3333333333333333,
              "#9c179e"
             ],
             [
              0.4444444444444444,
              "#bd3786"
             ],
             [
              0.5555555555555556,
              "#d8576b"
             ],
             [
              0.6666666666666666,
              "#ed7953"
             ],
             [
              0.7777777777777778,
              "#fb9f3a"
             ],
             [
              0.8888888888888888,
              "#fdca26"
             ],
             [
              1,
              "#f0f921"
             ]
            ],
            "type": "heatmapgl"
           }
          ],
          "histogram": [
           {
            "marker": {
             "pattern": {
              "fillmode": "overlay",
              "size": 10,
              "solidity": 0.2
             }
            },
            "type": "histogram"
           }
          ],
          "histogram2d": [
           {
            "colorbar": {
             "outlinewidth": 0,
             "ticks": ""
            },
            "colorscale": [
             [
              0,
              "#0d0887"
             ],
             [
              0.1111111111111111,
              "#46039f"
             ],
             [
              0.2222222222222222,
              "#7201a8"
             ],
             [
              0.3333333333333333,
              "#9c179e"
             ],
             [
              0.4444444444444444,
              "#bd3786"
             ],
             [
              0.5555555555555556,
              "#d8576b"
             ],
             [
              0.6666666666666666,
              "#ed7953"
             ],
             [
              0.7777777777777778,
              "#fb9f3a"
             ],
             [
              0.8888888888888888,
              "#fdca26"
             ],
             [
              1,
              "#f0f921"
             ]
            ],
            "type": "histogram2d"
           }
          ],
          "histogram2dcontour": [
           {
            "colorbar": {
             "outlinewidth": 0,
             "ticks": ""
            },
            "colorscale": [
             [
              0,
              "#0d0887"
             ],
             [
              0.1111111111111111,
              "#46039f"
             ],
             [
              0.2222222222222222,
              "#7201a8"
             ],
             [
              0.3333333333333333,
              "#9c179e"
             ],
             [
              0.4444444444444444,
              "#bd3786"
             ],
             [
              0.5555555555555556,
              "#d8576b"
             ],
             [
              0.6666666666666666,
              "#ed7953"
             ],
             [
              0.7777777777777778,
              "#fb9f3a"
             ],
             [
              0.8888888888888888,
              "#fdca26"
             ],
             [
              1,
              "#f0f921"
             ]
            ],
            "type": "histogram2dcontour"
           }
          ],
          "mesh3d": [
           {
            "colorbar": {
             "outlinewidth": 0,
             "ticks": ""
            },
            "type": "mesh3d"
           }
          ],
          "parcoords": [
           {
            "line": {
             "colorbar": {
              "outlinewidth": 0,
              "ticks": ""
             }
            },
            "type": "parcoords"
           }
          ],
          "pie": [
           {
            "automargin": true,
            "type": "pie"
           }
          ],
          "scatter": [
           {
            "marker": {
             "colorbar": {
              "outlinewidth": 0,
              "ticks": ""
             }
            },
            "type": "scatter"
           }
          ],
          "scatter3d": [
           {
            "line": {
             "colorbar": {
              "outlinewidth": 0,
              "ticks": ""
             }
            },
            "marker": {
             "colorbar": {
              "outlinewidth": 0,
              "ticks": ""
             }
            },
            "type": "scatter3d"
           }
          ],
          "scattercarpet": [
           {
            "marker": {
             "colorbar": {
              "outlinewidth": 0,
              "ticks": ""
             }
            },
            "type": "scattercarpet"
           }
          ],
          "scattergeo": [
           {
            "marker": {
             "colorbar": {
              "outlinewidth": 0,
              "ticks": ""
             }
            },
            "type": "scattergeo"
           }
          ],
          "scattergl": [
           {
            "marker": {
             "colorbar": {
              "outlinewidth": 0,
              "ticks": ""
             }
            },
            "type": "scattergl"
           }
          ],
          "scattermapbox": [
           {
            "marker": {
             "colorbar": {
              "outlinewidth": 0,
              "ticks": ""
             }
            },
            "type": "scattermapbox"
           }
          ],
          "scatterpolar": [
           {
            "marker": {
             "colorbar": {
              "outlinewidth": 0,
              "ticks": ""
             }
            },
            "type": "scatterpolar"
           }
          ],
          "scatterpolargl": [
           {
            "marker": {
             "colorbar": {
              "outlinewidth": 0,
              "ticks": ""
             }
            },
            "type": "scatterpolargl"
           }
          ],
          "scatterternary": [
           {
            "marker": {
             "colorbar": {
              "outlinewidth": 0,
              "ticks": ""
             }
            },
            "type": "scatterternary"
           }
          ],
          "surface": [
           {
            "colorbar": {
             "outlinewidth": 0,
             "ticks": ""
            },
            "colorscale": [
             [
              0,
              "#0d0887"
             ],
             [
              0.1111111111111111,
              "#46039f"
             ],
             [
              0.2222222222222222,
              "#7201a8"
             ],
             [
              0.3333333333333333,
              "#9c179e"
             ],
             [
              0.4444444444444444,
              "#bd3786"
             ],
             [
              0.5555555555555556,
              "#d8576b"
             ],
             [
              0.6666666666666666,
              "#ed7953"
             ],
             [
              0.7777777777777778,
              "#fb9f3a"
             ],
             [
              0.8888888888888888,
              "#fdca26"
             ],
             [
              1,
              "#f0f921"
             ]
            ],
            "type": "surface"
           }
          ],
          "table": [
           {
            "cells": {
             "fill": {
              "color": "#EBF0F8"
             },
             "line": {
              "color": "white"
             }
            },
            "header": {
             "fill": {
              "color": "#C8D4E3"
             },
             "line": {
              "color": "white"
             }
            },
            "type": "table"
           }
          ]
         },
         "layout": {
          "annotationdefaults": {
           "arrowcolor": "#2a3f5f",
           "arrowhead": 0,
           "arrowwidth": 1
          },
          "autotypenumbers": "strict",
          "coloraxis": {
           "colorbar": {
            "outlinewidth": 0,
            "ticks": ""
           }
          },
          "colorscale": {
           "diverging": [
            [
             0,
             "#8e0152"
            ],
            [
             0.1,
             "#c51b7d"
            ],
            [
             0.2,
             "#de77ae"
            ],
            [
             0.3,
             "#f1b6da"
            ],
            [
             0.4,
             "#fde0ef"
            ],
            [
             0.5,
             "#f7f7f7"
            ],
            [
             0.6,
             "#e6f5d0"
            ],
            [
             0.7,
             "#b8e186"
            ],
            [
             0.8,
             "#7fbc41"
            ],
            [
             0.9,
             "#4d9221"
            ],
            [
             1,
             "#276419"
            ]
           ],
           "sequential": [
            [
             0,
             "#0d0887"
            ],
            [
             0.1111111111111111,
             "#46039f"
            ],
            [
             0.2222222222222222,
             "#7201a8"
            ],
            [
             0.3333333333333333,
             "#9c179e"
            ],
            [
             0.4444444444444444,
             "#bd3786"
            ],
            [
             0.5555555555555556,
             "#d8576b"
            ],
            [
             0.6666666666666666,
             "#ed7953"
            ],
            [
             0.7777777777777778,
             "#fb9f3a"
            ],
            [
             0.8888888888888888,
             "#fdca26"
            ],
            [
             1,
             "#f0f921"
            ]
           ],
           "sequentialminus": [
            [
             0,
             "#0d0887"
            ],
            [
             0.1111111111111111,
             "#46039f"
            ],
            [
             0.2222222222222222,
             "#7201a8"
            ],
            [
             0.3333333333333333,
             "#9c179e"
            ],
            [
             0.4444444444444444,
             "#bd3786"
            ],
            [
             0.5555555555555556,
             "#d8576b"
            ],
            [
             0.6666666666666666,
             "#ed7953"
            ],
            [
             0.7777777777777778,
             "#fb9f3a"
            ],
            [
             0.8888888888888888,
             "#fdca26"
            ],
            [
             1,
             "#f0f921"
            ]
           ]
          },
          "colorway": [
           "#636efa",
           "#EF553B",
           "#00cc96",
           "#ab63fa",
           "#FFA15A",
           "#19d3f3",
           "#FF6692",
           "#B6E880",
           "#FF97FF",
           "#FECB52"
          ],
          "font": {
           "color": "#2a3f5f"
          },
          "geo": {
           "bgcolor": "white",
           "lakecolor": "white",
           "landcolor": "#E5ECF6",
           "showlakes": true,
           "showland": true,
           "subunitcolor": "white"
          },
          "hoverlabel": {
           "align": "left"
          },
          "hovermode": "closest",
          "mapbox": {
           "style": "light"
          },
          "paper_bgcolor": "white",
          "plot_bgcolor": "#E5ECF6",
          "polar": {
           "angularaxis": {
            "gridcolor": "white",
            "linecolor": "white",
            "ticks": ""
           },
           "bgcolor": "#E5ECF6",
           "radialaxis": {
            "gridcolor": "white",
            "linecolor": "white",
            "ticks": ""
           }
          },
          "scene": {
           "xaxis": {
            "backgroundcolor": "#E5ECF6",
            "gridcolor": "white",
            "gridwidth": 2,
            "linecolor": "white",
            "showbackground": true,
            "ticks": "",
            "zerolinecolor": "white"
           },
           "yaxis": {
            "backgroundcolor": "#E5ECF6",
            "gridcolor": "white",
            "gridwidth": 2,
            "linecolor": "white",
            "showbackground": true,
            "ticks": "",
            "zerolinecolor": "white"
           },
           "zaxis": {
            "backgroundcolor": "#E5ECF6",
            "gridcolor": "white",
            "gridwidth": 2,
            "linecolor": "white",
            "showbackground": true,
            "ticks": "",
            "zerolinecolor": "white"
           }
          },
          "shapedefaults": {
           "line": {
            "color": "#2a3f5f"
           }
          },
          "ternary": {
           "aaxis": {
            "gridcolor": "white",
            "linecolor": "white",
            "ticks": ""
           },
           "baxis": {
            "gridcolor": "white",
            "linecolor": "white",
            "ticks": ""
           },
           "bgcolor": "#E5ECF6",
           "caxis": {
            "gridcolor": "white",
            "linecolor": "white",
            "ticks": ""
           }
          },
          "title": {
           "x": 0.05
          },
          "xaxis": {
           "automargin": true,
           "gridcolor": "white",
           "linecolor": "white",
           "ticks": "",
           "title": {
            "standoff": 15
           },
           "zerolinecolor": "white",
           "zerolinewidth": 2
          },
          "yaxis": {
           "automargin": true,
           "gridcolor": "white",
           "linecolor": "white",
           "ticks": "",
           "title": {
            "standoff": 15
           },
           "zerolinecolor": "white",
           "zerolinewidth": 2
          }
         }
        },
        "xaxis": {
         "anchor": "y",
         "autorange": true,
         "domain": [
          0,
          1
         ],
         "range": [
          6.938893903907228e-17,
          0.9999999999999999
         ],
         "title": {
          "text": "authenticity_score"
         },
         "type": "linear"
        },
        "yaxis": {
         "anchor": "x",
         "autorange": true,
         "domain": [
          0,
          1
         ],
         "range": [
          0,
          251.57894736842104
         ],
         "title": {
          "text": "count"
         }
        }
       }
      },
      "image/png": "[encoded data removed]",
      "text/html": [
       "<div>                            <div id=\"73bab611-01dd-48c2-8a8f-560d0bf70aa9\" class=\"plotly-graph-div\" style=\"height:525px; width:100%;\"></div>            <script type=\"text/javascript\">                require([\"plotly\"], function(Plotly) {                    window.PLOTLYENV=window.PLOTLYENV || {};                                    if (document.getElementById(\"73bab611-01dd-48c2-8a8f-560d0bf70aa9\")) {                    Plotly.newPlot(                        \"73bab611-01dd-48c2-8a8f-560d0bf70aa9\",                        [{\"alignmentgroup\":\"True\",\"bingroup\":\"x\",\"hovertemplate\":\"authenticity_score=%{x}<br>count=%{y}<extra></extra>\",\"legendgroup\":\"\",\"marker\":{\"color\":\"#636efa\",\"pattern\":{\"shape\":\"\"}},\"name\":\"\",\"nbinsx\":10,\"offsetgroup\":\"\",\"orientation\":\"v\",\"showlegend\":false,\"type\":\"histogram\",\"x\":[0.967540145,0.99121511,0.989950418,0.986101091,0.98910147,0.908060074,0.947104335,0.481392741,0.915134728,0.988811016,0.988564551,0.98722595,0.699460864,0.955991149,0.989690542,0.985634983,0.974094748,0.027845157,0.990116775,0.906749129,0.980145574,0.991005778,0.968637407,0.929462254,0.016947987,0.148966581,0.958087087,0.991629899,0.991514921,0.484760672,0.984019041,0.988554657,0.99162358,0.990902841,0.971179008,0.991816103,0.987097263,0.984796882,0.982137799,0.270594418,0.98963356,0.989686549,0.962669849,0.990246177,0.985175848,0.991397023,0.983762741,0.986420751,0.97783339,0.976131558,0.984503746,0.986664414,0.9871912,0.967695296,0.988000214,0.990499914,0.989816427,0.990042448,0.990476847,0.978104115,0.981680632,0.630124807,0.98797977,0.987241149,0.989836037,0.986413121,0.905328691,0.969932556,0.980619073,0.971399546,0.989874125,0.975512087,0.991237402,0.952589393,0.99129349,0.990424693,0.990236938,0.989063203,0.988710105,0.912668586,0.989453912,0.986549199,0.979048133,0.98669225,0.982577741,0.991302609,0.023619844,0.165622517,0.983971179,0.989927053,0.989980519,0.040323403,0.979465961,0.976845384,0.919743419,0.981524527,0.024250776,0.970446467,0.94612211,0.923878193,0.981236219,0.98305881,0.954658806,0.98472625,0.990834177,0.964661658,0.990851104,0.972136319,0.95505029,0.987454891,0.989662945,0.679730594,0.145116746,0.057267927,0.981123388,0.990038395,0.963668466,0.989243507,0.97295773,0.053044155,0.991070747,0.991292536,0.343632102,0.973244131,0.941323698,0.023205632,0.97139287,0.99159348,0.983361781,0.991231382,0.990284264,0.713056087,0.338724315,0.760696232,0.066783182,0.615120709,0.98616612,0.98197341,0.962532461,0.037981007,0.989860773,0.958607018,0.989839554,0.950871229,0.514085829,0.972402513,0.042288207,0.987805247,0.984905303,0.982435584,0.989680469,0.979046583,0.235652342,0.951659262,0.978784144,0.975530386,0.981853664,0.983025968,0.987231672,0.91452086,0.01770865,0.988106012,0.969701231,0.877995789,0.98370713,0.970067382,0.981364667,0.631006718,0.969765365,0.989776611,0.98512888,0.97354424,0.98374927,0.990119219,0.990141571,0.942505479,0.978265047,0.976258099,0.977263391,0.985361516,0.988209486,0.99026078,0.983210325,0.97282064,0.986985147,0.954464734,0.845242977,0.979434848,0.983131409,0.985839427,0.205131158,0.8948825,0.97700125,0.990246058,0.990663886,0.983579934,0.703861237,0.678865969,0.962608576,0.988221109,0.979649127,0.027399225,0.97422421,0.991386712,0.988429129,0.989542365,0.224474832,0.989532471,0.972800434,0.991193235,0.991199076,0.930262923,0.987563491,0.987487078,0.990111887,0.026780849,0.990112245,0.990809798,0.985884488,0.980413616,0.709250391,0.945977092,0.064250842,0.983195901,0.296530992,0.034510158,0.103475772,0.825383604,0.947757661,0.939784348,0.987437546,0.969321489,0.02374691,0.968679667,0.986089826,0.974083662,0.024525059,0.809863031,0.976376355,0.203671858,0.141262665,0.068212092,0.988825619,0.6073789,0.991316915,0.051497202,0.983307719,0.990806758,0.974651277,0.990325212,0.987671018,0.988159537,0.982346535,0.987941802,0.856731296,0.991104126,0.944956243,0.982245803,0.948680878,0.99018842,0.980431795,0.985888064,0.990055323,0.978996634,0.980980337,0.980291784,0.987682998,0.961356759,0.982466102,0.026774921,0.084976614,0.988780022,0.986141324,0.881886184,0.988513052,0.977630258,0.978651464,0.988219023,0.532571733,0.910520911,0.985151231,0.017022565,0.980843246,0.990503609,0.984009147,0.991069198,0.992008328,0.99135077,0.991780579,0.954397917,0.989727914,0.985623002,0.971098363,0.938215077,0.990492642,0.990481913,0.991067469],\"xaxis\":\"x\",\"yaxis\":\"y\"}],                        {\"barmode\":\"relative\",\"legend\":{\"tracegroupgap\":0},\"margin\":{\"t\":60},\"template\":{\"data\":{\"bar\":[{\"error_x\":{\"color\":\"#2a3f5f\"},\"error_y\":{\"color\":\"#2a3f5f\"},\"marker\":{\"line\":{\"color\":\"#E5ECF6\",\"width\":0.5},\"pattern\":{\"fillmode\":\"overlay\",\"size\":10,\"solidity\":0.2}},\"type\":\"bar\"}],\"barpolar\":[{\"marker\":{\"line\":{\"color\":\"#E5ECF6\",\"width\":0.5},\"pattern\":{\"fillmode\":\"overlay\",\"size\":10,\"solidity\":0.2}},\"type\":\"barpolar\"}],\"carpet\":[{\"aaxis\":{\"endlinecolor\":\"#2a3f5f\",\"gridcolor\":\"white\",\"linecolor\":\"white\",\"minorgridcolor\":\"white\",\"startlinecolor\":\"#2a3f5f\"},\"baxis\":{\"endlinecolor\":\"#2a3f5f\",\"gridcolor\":\"white\",\"linecolor\":\"white\",\"minorgridcolor\":\"white\",\"startlinecolor\":\"#2a3f5f\"},\"type\":\"carpet\"}],\"choropleth\":[{\"colorbar\":{\"outlinewidth\":0,\"ticks\":\"\"},\"type\":\"choropleth\"}],\"contour\":[{\"colorbar\":{\"outlinewidth\":0,\"ticks\":\"\"},\"colorscale\":[[0.0,\"#0d0887\"],[0.1111111111111111,\"#46039f\"],[0.2222222222222222,\"#7201a8\"],[0.3333333333333333,\"#9c179e\"],[0.4444444444444444,\"#bd3786\"],[0.5555555555555556,\"#d8576b\"],[0.6666666666666666,\"#ed7953\"],[0.7777777777777778,\"#fb9f3a\"],[0.8888888888888888,\"#fdca26\"],[1.0,\"#f0f921\"]],\"type\":\"contour\"}],\"contourcarpet\":[{\"colorbar\":{\"outlinewidth\":0,\"ticks\":\"\"},\"type\":\"contourcarpet\"}],\"heatmap\":[{\"colorbar\":{\"outlinewidth\":0,\"ticks\":\"\"},\"colorscale\":[[0.0,\"#0d0887\"],[0.1111111111111111,\"#46039f\"],[0.2222222222222222,\"#7201a8\"],[0.3333333333333333,\"#9c179e\"],[0.4444444444444444,\"#bd3786\"],[0.5555555555555556,\"#d8576b\"],[0.6666666666666666,\"#ed7953\"],[0.7777777777777778,\"#fb9f3a\"],[0.8888888888888888,\"#fdca26\"],[1.0,\"#f0f921\"]],\"type\":\"heatmap\"}],\"heatmapgl\":[{\"colorbar\":{\"outlinewidth\":0,\"ticks\":\"\"},\"colorscale\":[[0.0,\"#0d0887\"],[0.1111111111111111,\"#46039f\"],[0.2222222222222222,\"#7201a8\"],[0.3333333333333333,\"#9c179e\"],[0.4444444444444444,\"#bd3786\"],[0.5555555555555556,\"#d8576b\"],[0.6666666666666666,\"#ed7953\"],[0.7777777777777778,\"#fb9f3a\"],[0.8888888888888888,\"#fdca26\"],[1.0,\"#f0f921\"]],\"type\":\"heatmapgl\"}],\"histogram\":[{\"marker\":{\"pattern\":{\"fillmode\":\"overlay\",\"size\":10,\"solidity\":0.2}},\"type\":\"histogram\"}],\"histogram2d\":[{\"colorbar\":{\"outlinewidth\":0,\"ticks\":\"\"},\"colorscale\":[[0.0,\"#0d0887\"],[0.1111111111111111,\"#46039f\"],[0.2222222222222222,\"#7201a8\"],[0.3333333333333333,\"#9c179e\"],[0.4444444444444444,\"#bd3786\"],[0.5555555555555556,\"#d8576b\"],[0.6666666666666666,\"#ed7953\"],[0.7777777777777778,\"#fb9f3a\"],[0.8888888888888888,\"#fdca26\"],[1.0,\"#f0f921\"]],\"type\":\"histogram2d\"}],\"histogram2dcontour\":[{\"colorbar\":{\"outlinewidth\":0,\"ticks\":\"\"},\"colorscale\":[[0.0,\"#0d0887\"],[0.1111111111111111,\"#46039f\"],[0.2222222222222222,\"#7201a8\"],[0.3333333333333333,\"#9c179e\"],[0.4444444444444444,\"#bd3786\"],[0.5555555555555556,\"#d8576b\"],[0.6666666666666666,\"#ed7953\"],[0.7777777777777778,\"#fb9f3a\"],[0.8888888888888888,\"#fdca26\"],[1.0,\"#f0f921\"]],\"type\":\"histogram2dcontour\"}],\"mesh3d\":[{\"colorbar\":{\"outlinewidth\":0,\"ticks\":\"\"},\"type\":\"mesh3d\"}],\"parcoords\":[{\"line\":{\"colorbar\":{\"outlinewidth\":0,\"ticks\":\"\"}},\"type\":\"parcoords\"}],\"pie\":[{\"automargin\":true,\"type\":\"pie\"}],\"scatter\":[{\"marker\":{\"colorbar\":{\"outlinewidth\":0,\"ticks\":\"\"}},\"type\":\"scatter\"}],\"scatter3d\":[{\"line\":{\"colorbar\":{\"outlinewidth\":0,\"ticks\":\"\"}},\"marker\":{\"colorbar\":{\"outlinewidth\":0,\"ticks\":\"\"}},\"type\":\"scatter3d\"}],\"scattercarpet\":[{\"marker\":{\"colorbar\":{\"outlinewidth\":0,\"ticks\":\"\"}},\"type\":\"scattercarpet\"}],\"scattergeo\":[{\"marker\":{\"colorbar\":{\"outlinewidth\":0,\"ticks\":\"\"}},\"type\":\"scattergeo\"}],\"scattergl\":[{\"marker\":{\"colorbar\":{\"outlinewidth\":0,\"ticks\":\"\"}},\"type\":\"scattergl\"}],\"scattermapbox\":[{\"marker\":{\"colorbar\":{\"outlinewidth\":0,\"ticks\":\"\"}},\"type\":\"scattermapbox\"}],\"scatterpolar\":[{\"marker\":{\"colorbar\":{\"outlinewidth\":0,\"ticks\":\"\"}},\"type\":\"scatterpolar\"}],\"scatterpolargl\":[{\"marker\":{\"colorbar\":{\"outlinewidth\":0,\"ticks\":\"\"}},\"type\":\"scatterpolargl\"}],\"scatterternary\":[{\"marker\":{\"colorbar\":{\"outlinewidth\":0,\"ticks\":\"\"}},\"type\":\"scatterternary\"}],\"surface\":[{\"colorbar\":{\"outlinewidth\":0,\"ticks\":\"\"},\"colorscale\":[[0.0,\"#0d0887\"],[0.1111111111111111,\"#46039f\"],[0.2222222222222222,\"#7201a8\"],[0.3333333333333333,\"#9c179e\"],[0.4444444444444444,\"#bd3786\"],[0.5555555555555556,\"#d8576b\"],[0.6666666666666666,\"#ed7953\"],[0.7777777777777778,\"#fb9f3a\"],[0.8888888888888888,\"#fdca26\"],[1.0,\"#f0f921\"]],\"type\":\"surface\"}],\"table\":[{\"cells\":{\"fill\":{\"color\":\"#EBF0F8\"},\"line\":{\"color\":\"white\"}},\"header\":{\"fill\":{\"color\":\"#C8D4E3\"},\"line\":{\"color\":\"white\"}},\"type\":\"table\"}]},\"layout\":{\"annotationdefaults\":{\"arrowcolor\":\"#2a3f5f\",\"arrowhead\":0,\"arrowwidth\":1},\"autotypenumbers\":\"strict\",\"coloraxis\":{\"colorbar\":{\"outlinewidth\":0,\"ticks\":\"\"}},\"colorscale\":{\"diverging\":[[0,\"#8e0152\"],[0.1,\"#c51b7d\"],[0.2,\"#de77ae\"],[0.3,\"#f1b6da\"],[0.4,\"#fde0ef\"],[0.5,\"#f7f7f7\"],[0.6,\"#e6f5d0\"],[0.7,\"#b8e186\"],[0.8,\"#7fbc41\"],[0.9,\"#4d9221\"],[1,\"#276419\"]],\"sequential\":[[0.0,\"#0d0887\"],[0.1111111111111111,\"#46039f\"],[0.2222222222222222,\"#7201a8\"],[0.3333333333333333,\"#9c179e\"],[0.4444444444444444,\"#bd3786\"],[0.5555555555555556,\"#d8576b\"],[0.6666666666666666,\"#ed7953\"],[0.7777777777777778,\"#fb9f3a\"],[0.8888888888888888,\"#fdca26\"],[1.0,\"#f0f921\"]],\"sequentialminus\":[[0.0,\"#0d0887\"],[0.1111111111111111,\"#46039f\"],[0.2222222222222222,\"#7201a8\"],[0.3333333333333333,\"#9c179e\"],[0.4444444444444444,\"#bd3786\"],[0.5555555555555556,\"#d8576b\"],[0.6666666666666666,\"#ed7953\"],[0.7777777777777778,\"#fb9f3a\"],[0.8888888888888888,\"#fdca26\"],[1.0,\"#f0f921\"]]},\"colorway\":[\"#636efa\",\"#EF553B\",\"#00cc96\",\"#ab63fa\",\"#FFA15A\",\"#19d3f3\",\"#FF6692\",\"#B6E880\",\"#FF97FF\",\"#FECB52\"],\"font\":{\"color\":\"#2a3f5f\"},\"geo\":{\"bgcolor\":\"white\",\"lakecolor\":\"white\",\"landcolor\":\"#E5ECF6\",\"showlakes\":true,\"showland\":true,\"subunitcolor\":\"white\"},\"hoverlabel\":{\"align\":\"left\"},\"hovermode\":\"closest\",\"mapbox\":{\"style\":\"light\"},\"paper_bgcolor\":\"white\",\"plot_bgcolor\":\"#E5ECF6\",\"polar\":{\"angularaxis\":{\"gridcolor\":\"white\",\"linecolor\":\"white\",\"ticks\":\"\"},\"bgcolor\":\"#E5ECF6\",\"radialaxis\":{\"gridcolor\":\"white\",\"linecolor\":\"white\",\"ticks\":\"\"}},\"scene\":{\"xaxis\":{\"backgroundcolor\":\"#E5ECF6\",\"gridcolor\":\"white\",\"gridwidth\":2,\"linecolor\":\"white\",\"showbackground\":true,\"ticks\":\"\",\"zerolinecolor\":\"white\"},\"yaxis\":{\"backgroundcolor\":\"#E5ECF6\",\"gridcolor\":\"white\",\"gridwidth\":2,\"linecolor\":\"white\",\"showbackground\":true,\"ticks\":\"\",\"zerolinecolor\":\"white\"},\"zaxis\":{\"backgroundcolor\":\"#E5ECF6\",\"gridcolor\":\"white\",\"gridwidth\":2,\"linecolor\":\"white\",\"showbackground\":true,\"ticks\":\"\",\"zerolinecolor\":\"white\"}},\"shapedefaults\":{\"line\":{\"color\":\"#2a3f5f\"}},\"ternary\":{\"aaxis\":{\"gridcolor\":\"white\",\"linecolor\":\"white\",\"ticks\":\"\"},\"baxis\":{\"gridcolor\":\"white\",\"linecolor\":\"white\",\"ticks\":\"\"},\"bgcolor\":\"#E5ECF6\",\"caxis\":{\"gridcolor\":\"white\",\"linecolor\":\"white\",\"ticks\":\"\"}},\"title\":{\"x\":0.05},\"xaxis\":{\"automargin\":true,\"gridcolor\":\"white\",\"linecolor\":\"white\",\"ticks\":\"\",\"title\":{\"standoff\":15},\"zerolinecolor\":\"white\",\"zerolinewidth\":2},\"yaxis\":{\"automargin\":true,\"gridcolor\":\"white\",\"linecolor\":\"white\",\"ticks\":\"\",\"title\":{\"standoff\":15},\"zerolinecolor\":\"white\",\"zerolinewidth\":2}}},\"xaxis\":{\"anchor\":\"y\",\"domain\":[0.0,1.0],\"title\":{\"text\":\"authenticity_score\"}},\"yaxis\":{\"anchor\":\"x\",\"domain\":[0.0,1.0],\"title\":{\"text\":\"count\"}}},                        {\"responsive\": true}                    ).then(function(){\n",
       "                            \n",
       "var gd = document.getElementById('73bab611-01dd-48c2-8a8f-560d0bf70aa9');\n",
       "var x = new MutationObserver(function (mutations, observer) {{\n",
       "        var display = window.getComputedStyle(gd).display;\n",
       "        if (!display || display === 'none') {{\n",
       "            console.log([gd, 'removed!']);\n",
       "            Plotly.purge(gd);\n",
       "            observer.disconnect();\n",
       "        }}\n",
       "}});\n",
       "\n",
       "// Listen for the removal of the full notebook cells\n",
       "var notebookContainer = gd.closest('#notebook-container');\n",
       "if (notebookContainer) {{\n",
       "    x.observe(notebookContainer, {childList: true});\n",
       "}}\n",
       "\n",
       "// Listen for the clearing of the current output cell\n",
       "var outputEl = gd.closest('.output');\n",
       "if (outputEl) {{\n",
       "    x.observe(outputEl, {childList: true});\n",
       "}}\n",
       "\n",
       "                        })                };                });            </script>        </div>"
      ]
     },
     "metadata": {},
     "output_type": "display_data"
    }
   ],
   "source": [
    "fig = px.histogram(df_1, x=\"authenticity_score\", nbins=10)\n",
    "fig.show()"
   ]
  },
  {
   "cell_type": "code",
   "execution_count": 35,
   "id": "1f030d1f-677b-48f1-8b64-0f96a4d63804",
   "metadata": {},
   "outputs": [
    {
     "data": {
      "application/vnd.plotly.v1+json": {
       "config": {
        "plotlyServerURL": "https://plot.ly"
       },
       "data": [
        {
         "alignmentgroup": "True",
         "bingroup": "x",
         "hovertemplate": "authenticity_score=%{x}<br>count=%{y}<extra></extra>",
         "legendgroup": "",
         "marker": {
          "color": "#636efa",
          "pattern": {
           "shape": ""
          }
         },
         "name": "",
         "nbinsx": 10,
         "offsetgroup": "",
         "orientation": "v",
         "showlegend": false,
         "type": "histogram",
         "x": [
          0.981797099,
          0.988151073,
          0.982668221,
          0.840252578,
          0.987846553,
          0.310840338,
          0.968480051,
          0.900303364,
          0.961133182,
          0.983626187,
          0.988650441,
          0.989673018,
          0.966079235,
          0.982900798,
          0.959494948,
          0.990913868,
          0.988796711,
          0.587750077,
          0.787987113,
          0.933910549,
          0.989517391,
          0.973643005,
          0.957459569,
          0.973140121,
          0.9903391,
          0.970566392,
          0.989474654,
          0.979284644,
          0.96752876,
          0.989770889,
          0.980879843,
          0.991806865,
          0.98935926,
          0.989036024,
          0.982030094,
          0.090994351,
          0.972979188,
          0.985075474,
          0.27122587,
          0.990133584,
          0.175926656,
          0.983808696,
          0.990020275,
          0.934956968,
          0.990558863,
          0.983731627,
          0.95049578,
          0.986464381,
          0.018924717,
          0.981568813,
          0.514833272,
          0.988728404,
          0.837715149,
          0.940084398,
          0.989574134,
          0.990435004,
          0.793733835,
          0.027975915,
          0.032051526,
          0.10443151,
          0.98859477,
          0.025457621,
          0.977106631,
          0.990362942,
          0.032351483,
          0.947384655,
          0.843587816,
          0.989877641,
          0.979813099,
          0.98751837,
          0.989645123,
          0.97556746,
          0.977454126,
          0.152618363,
          0.98074466,
          0.973736763,
          0.985211968,
          0.989617884,
          0.889177322,
          0.172271281,
          0.990136862,
          0.988107622,
          0.990879238,
          0.944570124,
          0.98150152,
          0.990355253,
          0.951213241,
          0.939966917,
          0.855475605,
          0.989015162,
          0.953933001,
          0.987956226,
          0.909123421,
          0.035110649,
          0.9517802,
          0.027843466,
          0.026541572,
          0.906390429,
          0.990501404,
          0.989263713,
          0.032573137,
          0.021650957,
          0.226620942,
          0.200934246,
          0.984522223,
          0.730328798,
          0.826472402,
          0.932301581,
          0.971097946,
          0.971317887,
          0.921413779,
          0.057226241,
          0.85680151,
          0.971121848,
          0.471403718,
          0.963044167,
          0.970691502,
          0.88585943,
          0.983626425,
          0.990496755,
          0.989564061,
          0.958387733,
          0.960767508,
          0.985984921,
          0.990115166,
          0.980104983,
          0.024951911,
          0.990016162,
          0.99034965,
          0.984792948,
          0.985043883,
          0.986247241,
          0.987352848,
          0.986629486,
          0.986934543,
          0.982134223,
          0.984244227,
          0.978379488,
          0.991030574,
          0.977722645,
          0.991473079,
          0.99061954,
          0.988157213,
          0.8678388,
          0.02701238,
          0.298478991,
          0.729527712,
          0.983538628,
          0.062297896,
          0.98645556,
          0.987528801,
          0.883593321,
          0.019268271,
          0.464463681,
          0.928282559,
          0.988830507,
          0.901853919,
          0.303027362,
          0.968735814,
          0.830923676,
          0.973255515,
          0.251146644,
          0.026999928,
          0.939280927,
          0.063510463,
          0.991496325,
          0.990089893,
          0.9833408,
          0.987040102,
          0.032168515,
          0.975037575,
          0.977405131,
          0.991374195,
          0.982639968,
          0.975364625,
          0.979587913,
          0.713552892,
          0.028748609,
          0.96818608,
          0.990112662,
          0.985804617,
          0.986824453,
          0.98889482,
          0.981813192,
          0.981896639,
          0.99083823,
          0.723710597,
          0.967131972,
          0.989778936,
          0.989086747,
          0.985966861,
          0.972684801,
          0.980878711,
          0.976135731,
          0.982532263,
          0.990676403,
          0.676282525,
          0.982987046,
          0.98655057,
          0.972826362,
          0.988192499,
          0.971616924,
          0.989980042,
          0.595777512,
          0.047984235,
          0.989913583,
          0.921782076,
          0.035606075,
          0.990231812,
          0.035172909,
          0.990432322,
          0.972533047,
          0.850179672,
          0.966240585,
          0.975457311,
          0.986465335,
          0.910991848,
          0.760897815,
          0.9894889,
          0.982085943,
          0.96204555,
          0.872281373,
          0.990259588,
          0.940277874,
          0.14959614,
          0.052230667,
          0.018127693,
          0.990094125,
          0.700414062,
          0.979652405,
          0.794110835,
          0.982436538,
          0.925200284,
          0.991272151,
          0.027027534,
          0.97526294,
          0.978306472,
          0.071580157,
          0.990641057,
          0.893764555,
          0.959629834,
          0.976425111
         ],
         "xaxis": "x",
         "yaxis": "y"
        }
       ],
       "layout": {
        "autosize": true,
        "barmode": "relative",
        "legend": {
         "tracegroupgap": 0
        },
        "margin": {
         "t": 60
        },
        "template": {
         "data": {
          "bar": [
           {
            "error_x": {
             "color": "#2a3f5f"
            },
            "error_y": {
             "color": "#2a3f5f"
            },
            "marker": {
             "line": {
              "color": "#E5ECF6",
              "width": 0.5
             },
             "pattern": {
              "fillmode": "overlay",
              "size": 10,
              "solidity": 0.2
             }
            },
            "type": "bar"
           }
          ],
          "barpolar": [
           {
            "marker": {
             "line": {
              "color": "#E5ECF6",
              "width": 0.5
             },
             "pattern": {
              "fillmode": "overlay",
              "size": 10,
              "solidity": 0.2
             }
            },
            "type": "barpolar"
           }
          ],
          "carpet": [
           {
            "aaxis": {
             "endlinecolor": "#2a3f5f",
             "gridcolor": "white",
             "linecolor": "white",
             "minorgridcolor": "white",
             "startlinecolor": "#2a3f5f"
            },
            "baxis": {
             "endlinecolor": "#2a3f5f",
             "gridcolor": "white",
             "linecolor": "white",
             "minorgridcolor": "white",
             "startlinecolor": "#2a3f5f"
            },
            "type": "carpet"
           }
          ],
          "choropleth": [
           {
            "colorbar": {
             "outlinewidth": 0,
             "ticks": ""
            },
            "type": "choropleth"
           }
          ],
          "contour": [
           {
            "colorbar": {
             "outlinewidth": 0,
             "ticks": ""
            },
            "colorscale": [
             [
              0,
              "#0d0887"
             ],
             [
              0.1111111111111111,
              "#46039f"
             ],
             [
              0.2222222222222222,
              "#7201a8"
             ],
             [
              0.3333333333333333,
              "#9c179e"
             ],
             [
              0.4444444444444444,
              "#bd3786"
             ],
             [
              0.5555555555555556,
              "#d8576b"
             ],
             [
              0.6666666666666666,
              "#ed7953"
             ],
             [
              0.7777777777777778,
              "#fb9f3a"
             ],
             [
              0.8888888888888888,
              "#fdca26"
             ],
             [
              1,
              "#f0f921"
             ]
            ],
            "type": "contour"
           }
          ],
          "contourcarpet": [
           {
            "colorbar": {
             "outlinewidth": 0,
             "ticks": ""
            },
            "type": "contourcarpet"
           }
          ],
          "heatmap": [
           {
            "colorbar": {
             "outlinewidth": 0,
             "ticks": ""
            },
            "colorscale": [
             [
              0,
              "#0d0887"
             ],
             [
              0.1111111111111111,
              "#46039f"
             ],
             [
              0.2222222222222222,
              "#7201a8"
             ],
             [
              0.3333333333333333,
              "#9c179e"
             ],
             [
              0.4444444444444444,
              "#bd3786"
             ],
             [
              0.5555555555555556,
              "#d8576b"
             ],
             [
              0.6666666666666666,
              "#ed7953"
             ],
             [
              0.7777777777777778,
              "#fb9f3a"
             ],
             [
              0.8888888888888888,
              "#fdca26"
             ],
             [
              1,
              "#f0f921"
             ]
            ],
            "type": "heatmap"
           }
          ],
          "heatmapgl": [
           {
            "colorbar": {
             "outlinewidth": 0,
             "ticks": ""
            },
            "colorscale": [
             [
              0,
              "#0d0887"
             ],
             [
              0.1111111111111111,
              "#46039f"
             ],
             [
              0.2222222222222222,
              "#7201a8"
             ],
             [
              0.3333333333333333,
              "#9c179e"
             ],
             [
              0.4444444444444444,
              "#bd3786"
             ],
             [
              0.5555555555555556,
              "#d8576b"
             ],
             [
              0.6666666666666666,
              "#ed7953"
             ],
             [
              0.7777777777777778,
              "#fb9f3a"
             ],
             [
              0.8888888888888888,
              "#fdca26"
             ],
             [
              1,
              "#f0f921"
             ]
            ],
            "type": "heatmapgl"
           }
          ],
          "histogram": [
           {
            "marker": {
             "pattern": {
              "fillmode": "overlay",
              "size": 10,
              "solidity": 0.2
             }
            },
            "type": "histogram"
           }
          ],
          "histogram2d": [
           {
            "colorbar": {
             "outlinewidth": 0,
             "ticks": ""
            },
            "colorscale": [
             [
              0,
              "#0d0887"
             ],
             [
              0.1111111111111111,
              "#46039f"
             ],
             [
              0.2222222222222222,
              "#7201a8"
             ],
             [
              0.3333333333333333,
              "#9c179e"
             ],
             [
              0.4444444444444444,
              "#bd3786"
             ],
             [
              0.5555555555555556,
              "#d8576b"
             ],
             [
              0.6666666666666666,
              "#ed7953"
             ],
             [
              0.7777777777777778,
              "#fb9f3a"
             ],
             [
              0.8888888888888888,
              "#fdca26"
             ],
             [
              1,
              "#f0f921"
             ]
            ],
            "type": "histogram2d"
           }
          ],
          "histogram2dcontour": [
           {
            "colorbar": {
             "outlinewidth": 0,
             "ticks": ""
            },
            "colorscale": [
             [
              0,
              "#0d0887"
             ],
             [
              0.1111111111111111,
              "#46039f"
             ],
             [
              0.2222222222222222,
              "#7201a8"
             ],
             [
              0.3333333333333333,
              "#9c179e"
             ],
             [
              0.4444444444444444,
              "#bd3786"
             ],
             [
              0.5555555555555556,
              "#d8576b"
             ],
             [
              0.6666666666666666,
              "#ed7953"
             ],
             [
              0.7777777777777778,
              "#fb9f3a"
             ],
             [
              0.8888888888888888,
              "#fdca26"
             ],
             [
              1,
              "#f0f921"
             ]
            ],
            "type": "histogram2dcontour"
           }
          ],
          "mesh3d": [
           {
            "colorbar": {
             "outlinewidth": 0,
             "ticks": ""
            },
            "type": "mesh3d"
           }
          ],
          "parcoords": [
           {
            "line": {
             "colorbar": {
              "outlinewidth": 0,
              "ticks": ""
             }
            },
            "type": "parcoords"
           }
          ],
          "pie": [
           {
            "automargin": true,
            "type": "pie"
           }
          ],
          "scatter": [
           {
            "marker": {
             "colorbar": {
              "outlinewidth": 0,
              "ticks": ""
             }
            },
            "type": "scatter"
           }
          ],
          "scatter3d": [
           {
            "line": {
             "colorbar": {
              "outlinewidth": 0,
              "ticks": ""
             }
            },
            "marker": {
             "colorbar": {
              "outlinewidth": 0,
              "ticks": ""
             }
            },
            "type": "scatter3d"
           }
          ],
          "scattercarpet": [
           {
            "marker": {
             "colorbar": {
              "outlinewidth": 0,
              "ticks": ""
             }
            },
            "type": "scattercarpet"
           }
          ],
          "scattergeo": [
           {
            "marker": {
             "colorbar": {
              "outlinewidth": 0,
              "ticks": ""
             }
            },
            "type": "scattergeo"
           }
          ],
          "scattergl": [
           {
            "marker": {
             "colorbar": {
              "outlinewidth": 0,
              "ticks": ""
             }
            },
            "type": "scattergl"
           }
          ],
          "scattermapbox": [
           {
            "marker": {
             "colorbar": {
              "outlinewidth": 0,
              "ticks": ""
             }
            },
            "type": "scattermapbox"
           }
          ],
          "scatterpolar": [
           {
            "marker": {
             "colorbar": {
              "outlinewidth": 0,
              "ticks": ""
             }
            },
            "type": "scatterpolar"
           }
          ],
          "scatterpolargl": [
           {
            "marker": {
             "colorbar": {
              "outlinewidth": 0,
              "ticks": ""
             }
            },
            "type": "scatterpolargl"
           }
          ],
          "scatterternary": [
           {
            "marker": {
             "colorbar": {
              "outlinewidth": 0,
              "ticks": ""
             }
            },
            "type": "scatterternary"
           }
          ],
          "surface": [
           {
            "colorbar": {
             "outlinewidth": 0,
             "ticks": ""
            },
            "colorscale": [
             [
              0,
              "#0d0887"
             ],
             [
              0.1111111111111111,
              "#46039f"
             ],
             [
              0.2222222222222222,
              "#7201a8"
             ],
             [
              0.3333333333333333,
              "#9c179e"
             ],
             [
              0.4444444444444444,
              "#bd3786"
             ],
             [
              0.5555555555555556,
              "#d8576b"
             ],
             [
              0.6666666666666666,
              "#ed7953"
             ],
             [
              0.7777777777777778,
              "#fb9f3a"
             ],
             [
              0.8888888888888888,
              "#fdca26"
             ],
             [
              1,
              "#f0f921"
             ]
            ],
            "type": "surface"
           }
          ],
          "table": [
           {
            "cells": {
             "fill": {
              "color": "#EBF0F8"
             },
             "line": {
              "color": "white"
             }
            },
            "header": {
             "fill": {
              "color": "#C8D4E3"
             },
             "line": {
              "color": "white"
             }
            },
            "type": "table"
           }
          ]
         },
         "layout": {
          "annotationdefaults": {
           "arrowcolor": "#2a3f5f",
           "arrowhead": 0,
           "arrowwidth": 1
          },
          "autotypenumbers": "strict",
          "coloraxis": {
           "colorbar": {
            "outlinewidth": 0,
            "ticks": ""
           }
          },
          "colorscale": {
           "diverging": [
            [
             0,
             "#8e0152"
            ],
            [
             0.1,
             "#c51b7d"
            ],
            [
             0.2,
             "#de77ae"
            ],
            [
             0.3,
             "#f1b6da"
            ],
            [
             0.4,
             "#fde0ef"
            ],
            [
             0.5,
             "#f7f7f7"
            ],
            [
             0.6,
             "#e6f5d0"
            ],
            [
             0.7,
             "#b8e186"
            ],
            [
             0.8,
             "#7fbc41"
            ],
            [
             0.9,
             "#4d9221"
            ],
            [
             1,
             "#276419"
            ]
           ],
           "sequential": [
            [
             0,
             "#0d0887"
            ],
            [
             0.1111111111111111,
             "#46039f"
            ],
            [
             0.2222222222222222,
             "#7201a8"
            ],
            [
             0.3333333333333333,
             "#9c179e"
            ],
            [
             0.4444444444444444,
             "#bd3786"
            ],
            [
             0.5555555555555556,
             "#d8576b"
            ],
            [
             0.6666666666666666,
             "#ed7953"
            ],
            [
             0.7777777777777778,
             "#fb9f3a"
            ],
            [
             0.8888888888888888,
             "#fdca26"
            ],
            [
             1,
             "#f0f921"
            ]
           ],
           "sequentialminus": [
            [
             0,
             "#0d0887"
            ],
            [
             0.1111111111111111,
             "#46039f"
            ],
            [
             0.2222222222222222,
             "#7201a8"
            ],
            [
             0.3333333333333333,
             "#9c179e"
            ],
            [
             0.4444444444444444,
             "#bd3786"
            ],
            [
             0.5555555555555556,
             "#d8576b"
            ],
            [
             0.6666666666666666,
             "#ed7953"
            ],
            [
             0.7777777777777778,
             "#fb9f3a"
            ],
            [
             0.8888888888888888,
             "#fdca26"
            ],
            [
             1,
             "#f0f921"
            ]
           ]
          },
          "colorway": [
           "#636efa",
           "#EF553B",
           "#00cc96",
           "#ab63fa",
           "#FFA15A",
           "#19d3f3",
           "#FF6692",
           "#B6E880",
           "#FF97FF",
           "#FECB52"
          ],
          "font": {
           "color": "#2a3f5f"
          },
          "geo": {
           "bgcolor": "white",
           "lakecolor": "white",
           "landcolor": "#E5ECF6",
           "showlakes": true,
           "showland": true,
           "subunitcolor": "white"
          },
          "hoverlabel": {
           "align": "left"
          },
          "hovermode": "closest",
          "mapbox": {
           "style": "light"
          },
          "paper_bgcolor": "white",
          "plot_bgcolor": "#E5ECF6",
          "polar": {
           "angularaxis": {
            "gridcolor": "white",
            "linecolor": "white",
            "ticks": ""
           },
           "bgcolor": "#E5ECF6",
           "radialaxis": {
            "gridcolor": "white",
            "linecolor": "white",
            "ticks": ""
           }
          },
          "scene": {
           "xaxis": {
            "backgroundcolor": "#E5ECF6",
            "gridcolor": "white",
            "gridwidth": 2,
            "linecolor": "white",
            "showbackground": true,
            "ticks": "",
            "zerolinecolor": "white"
           },
           "yaxis": {
            "backgroundcolor": "#E5ECF6",
            "gridcolor": "white",
            "gridwidth": 2,
            "linecolor": "white",
            "showbackground": true,
            "ticks": "",
            "zerolinecolor": "white"
           },
           "zaxis": {
            "backgroundcolor": "#E5ECF6",
            "gridcolor": "white",
            "gridwidth": 2,
            "linecolor": "white",
            "showbackground": true,
            "ticks": "",
            "zerolinecolor": "white"
           }
          },
          "shapedefaults": {
           "line": {
            "color": "#2a3f5f"
           }
          },
          "ternary": {
           "aaxis": {
            "gridcolor": "white",
            "linecolor": "white",
            "ticks": ""
           },
           "baxis": {
            "gridcolor": "white",
            "linecolor": "white",
            "ticks": ""
           },
           "bgcolor": "#E5ECF6",
           "caxis": {
            "gridcolor": "white",
            "linecolor": "white",
            "ticks": ""
           }
          },
          "title": {
           "x": 0.05
          },
          "xaxis": {
           "automargin": true,
           "gridcolor": "white",
           "linecolor": "white",
           "ticks": "",
           "title": {
            "standoff": 15
           },
           "zerolinecolor": "white",
           "zerolinewidth": 2
          },
          "yaxis": {
           "automargin": true,
           "gridcolor": "white",
           "linecolor": "white",
           "ticks": "",
           "title": {
            "standoff": 15
           },
           "zerolinecolor": "white",
           "zerolinewidth": 2
          }
         }
        },
        "xaxis": {
         "anchor": "y",
         "autorange": true,
         "domain": [
          0,
          1
         ],
         "range": [
          6.938893903907228e-17,
          0.9999999999999999
         ],
         "title": {
          "text": "authenticity_score"
         },
         "type": "linear"
        },
        "yaxis": {
         "anchor": "x",
         "autorange": true,
         "domain": [
          0,
          1
         ],
         "range": [
          0,
          183.1578947368421
         ],
         "title": {
          "text": "count"
         }
        }
       }
      },
      "image/png": "[encoded data removed]",
      "text/html": [
       "<div>                            <div id=\"10d8af9e-0b3b-49c9-a242-2675b48d0f82\" class=\"plotly-graph-div\" style=\"height:525px; width:100%;\"></div>            <script type=\"text/javascript\">                require([\"plotly\"], function(Plotly) {                    window.PLOTLYENV=window.PLOTLYENV || {};                                    if (document.getElementById(\"10d8af9e-0b3b-49c9-a242-2675b48d0f82\")) {                    Plotly.newPlot(                        \"10d8af9e-0b3b-49c9-a242-2675b48d0f82\",                        [{\"alignmentgroup\":\"True\",\"bingroup\":\"x\",\"hovertemplate\":\"authenticity_score=%{x}<br>count=%{y}<extra></extra>\",\"legendgroup\":\"\",\"marker\":{\"color\":\"#636efa\",\"pattern\":{\"shape\":\"\"}},\"name\":\"\",\"nbinsx\":10,\"offsetgroup\":\"\",\"orientation\":\"v\",\"showlegend\":false,\"type\":\"histogram\",\"x\":[0.981797099,0.988151073,0.982668221,0.840252578,0.987846553,0.310840338,0.968480051,0.900303364,0.961133182,0.983626187,0.988650441,0.989673018,0.966079235,0.982900798,0.959494948,0.990913868,0.988796711,0.587750077,0.787987113,0.933910549,0.989517391,0.973643005,0.957459569,0.973140121,0.9903391,0.970566392,0.989474654,0.979284644,0.96752876,0.989770889,0.980879843,0.991806865,0.98935926,0.989036024,0.982030094,0.090994351,0.972979188,0.985075474,0.27122587,0.990133584,0.175926656,0.983808696,0.990020275,0.934956968,0.990558863,0.983731627,0.95049578,0.986464381,0.018924717,0.981568813,0.514833272,0.988728404,0.837715149,0.940084398,0.989574134,0.990435004,0.793733835,0.027975915,0.032051526,0.10443151,0.98859477,0.025457621,0.977106631,0.990362942,0.032351483,0.947384655,0.843587816,0.989877641,0.979813099,0.98751837,0.989645123,0.97556746,0.977454126,0.152618363,0.98074466,0.973736763,0.985211968,0.989617884,0.889177322,0.172271281,0.990136862,0.988107622,0.990879238,0.944570124,0.98150152,0.990355253,0.951213241,0.939966917,0.855475605,0.989015162,0.953933001,0.987956226,0.909123421,0.035110649,0.9517802,0.027843466,0.026541572,0.906390429,0.990501404,0.989263713,0.032573137,0.021650957,0.226620942,0.200934246,0.984522223,0.730328798,0.826472402,0.932301581,0.971097946,0.971317887,0.921413779,0.057226241,0.85680151,0.971121848,0.471403718,0.963044167,0.970691502,0.88585943,0.983626425,0.990496755,0.989564061,0.958387733,0.960767508,0.985984921,0.990115166,0.980104983,0.024951911,0.990016162,0.99034965,0.984792948,0.985043883,0.986247241,0.987352848,0.986629486,0.986934543,0.982134223,0.984244227,0.978379488,0.991030574,0.977722645,0.991473079,0.99061954,0.988157213,0.8678388,0.02701238,0.298478991,0.729527712,0.983538628,0.062297896,0.98645556,0.987528801,0.883593321,0.019268271,0.464463681,0.928282559,0.988830507,0.901853919,0.303027362,0.968735814,0.830923676,0.973255515,0.251146644,0.026999928,0.939280927,0.063510463,0.991496325,0.990089893,0.9833408,0.987040102,0.032168515,0.975037575,0.977405131,0.991374195,0.982639968,0.975364625,0.979587913,0.713552892,0.028748609,0.96818608,0.990112662,0.985804617,0.986824453,0.98889482,0.981813192,0.981896639,0.99083823,0.723710597,0.967131972,0.989778936,0.989086747,0.985966861,0.972684801,0.980878711,0.976135731,0.982532263,0.990676403,0.676282525,0.982987046,0.98655057,0.972826362,0.988192499,0.971616924,0.989980042,0.595777512,0.047984235,0.989913583,0.921782076,0.035606075,0.990231812,0.035172909,0.990432322,0.972533047,0.850179672,0.966240585,0.975457311,0.986465335,0.910991848,0.760897815,0.9894889,0.982085943,0.96204555,0.872281373,0.990259588,0.940277874,0.14959614,0.052230667,0.018127693,0.990094125,0.700414062,0.979652405,0.794110835,0.982436538,0.925200284,0.991272151,0.027027534,0.97526294,0.978306472,0.071580157,0.990641057,0.893764555,0.959629834,0.976425111],\"xaxis\":\"x\",\"yaxis\":\"y\"}],                        {\"barmode\":\"relative\",\"legend\":{\"tracegroupgap\":0},\"margin\":{\"t\":60},\"template\":{\"data\":{\"bar\":[{\"error_x\":{\"color\":\"#2a3f5f\"},\"error_y\":{\"color\":\"#2a3f5f\"},\"marker\":{\"line\":{\"color\":\"#E5ECF6\",\"width\":0.5},\"pattern\":{\"fillmode\":\"overlay\",\"size\":10,\"solidity\":0.2}},\"type\":\"bar\"}],\"barpolar\":[{\"marker\":{\"line\":{\"color\":\"#E5ECF6\",\"width\":0.5},\"pattern\":{\"fillmode\":\"overlay\",\"size\":10,\"solidity\":0.2}},\"type\":\"barpolar\"}],\"carpet\":[{\"aaxis\":{\"endlinecolor\":\"#2a3f5f\",\"gridcolor\":\"white\",\"linecolor\":\"white\",\"minorgridcolor\":\"white\",\"startlinecolor\":\"#2a3f5f\"},\"baxis\":{\"endlinecolor\":\"#2a3f5f\",\"gridcolor\":\"white\",\"linecolor\":\"white\",\"minorgridcolor\":\"white\",\"startlinecolor\":\"#2a3f5f\"},\"type\":\"carpet\"}],\"choropleth\":[{\"colorbar\":{\"outlinewidth\":0,\"ticks\":\"\"},\"type\":\"choropleth\"}],\"contour\":[{\"colorbar\":{\"outlinewidth\":0,\"ticks\":\"\"},\"colorscale\":[[0.0,\"#0d0887\"],[0.1111111111111111,\"#46039f\"],[0.2222222222222222,\"#7201a8\"],[0.3333333333333333,\"#9c179e\"],[0.4444444444444444,\"#bd3786\"],[0.5555555555555556,\"#d8576b\"],[0.6666666666666666,\"#ed7953\"],[0.7777777777777778,\"#fb9f3a\"],[0.8888888888888888,\"#fdca26\"],[1.0,\"#f0f921\"]],\"type\":\"contour\"}],\"contourcarpet\":[{\"colorbar\":{\"outlinewidth\":0,\"ticks\":\"\"},\"type\":\"contourcarpet\"}],\"heatmap\":[{\"colorbar\":{\"outlinewidth\":0,\"ticks\":\"\"},\"colorscale\":[[0.0,\"#0d0887\"],[0.1111111111111111,\"#46039f\"],[0.2222222222222222,\"#7201a8\"],[0.3333333333333333,\"#9c179e\"],[0.4444444444444444,\"#bd3786\"],[0.5555555555555556,\"#d8576b\"],[0.6666666666666666,\"#ed7953\"],[0.7777777777777778,\"#fb9f3a\"],[0.8888888888888888,\"#fdca26\"],[1.0,\"#f0f921\"]],\"type\":\"heatmap\"}],\"heatmapgl\":[{\"colorbar\":{\"outlinewidth\":0,\"ticks\":\"\"},\"colorscale\":[[0.0,\"#0d0887\"],[0.1111111111111111,\"#46039f\"],[0.2222222222222222,\"#7201a8\"],[0.3333333333333333,\"#9c179e\"],[0.4444444444444444,\"#bd3786\"],[0.5555555555555556,\"#d8576b\"],[0.6666666666666666,\"#ed7953\"],[0.7777777777777778,\"#fb9f3a\"],[0.8888888888888888,\"#fdca26\"],[1.0,\"#f0f921\"]],\"type\":\"heatmapgl\"}],\"histogram\":[{\"marker\":{\"pattern\":{\"fillmode\":\"overlay\",\"size\":10,\"solidity\":0.2}},\"type\":\"histogram\"}],\"histogram2d\":[{\"colorbar\":{\"outlinewidth\":0,\"ticks\":\"\"},\"colorscale\":[[0.0,\"#0d0887\"],[0.1111111111111111,\"#46039f\"],[0.2222222222222222,\"#7201a8\"],[0.3333333333333333,\"#9c179e\"],[0.4444444444444444,\"#bd3786\"],[0.5555555555555556,\"#d8576b\"],[0.6666666666666666,\"#ed7953\"],[0.7777777777777778,\"#fb9f3a\"],[0.8888888888888888,\"#fdca26\"],[1.0,\"#f0f921\"]],\"type\":\"histogram2d\"}],\"histogram2dcontour\":[{\"colorbar\":{\"outlinewidth\":0,\"ticks\":\"\"},\"colorscale\":[[0.0,\"#0d0887\"],[0.1111111111111111,\"#46039f\"],[0.2222222222222222,\"#7201a8\"],[0.3333333333333333,\"#9c179e\"],[0.4444444444444444,\"#bd3786\"],[0.5555555555555556,\"#d8576b\"],[0.6666666666666666,\"#ed7953\"],[0.7777777777777778,\"#fb9f3a\"],[0.8888888888888888,\"#fdca26\"],[1.0,\"#f0f921\"]],\"type\":\"histogram2dcontour\"}],\"mesh3d\":[{\"colorbar\":{\"outlinewidth\":0,\"ticks\":\"\"},\"type\":\"mesh3d\"}],\"parcoords\":[{\"line\":{\"colorbar\":{\"outlinewidth\":0,\"ticks\":\"\"}},\"type\":\"parcoords\"}],\"pie\":[{\"automargin\":true,\"type\":\"pie\"}],\"scatter\":[{\"marker\":{\"colorbar\":{\"outlinewidth\":0,\"ticks\":\"\"}},\"type\":\"scatter\"}],\"scatter3d\":[{\"line\":{\"colorbar\":{\"outlinewidth\":0,\"ticks\":\"\"}},\"marker\":{\"colorbar\":{\"outlinewidth\":0,\"ticks\":\"\"}},\"type\":\"scatter3d\"}],\"scattercarpet\":[{\"marker\":{\"colorbar\":{\"outlinewidth\":0,\"ticks\":\"\"}},\"type\":\"scattercarpet\"}],\"scattergeo\":[{\"marker\":{\"colorbar\":{\"outlinewidth\":0,\"ticks\":\"\"}},\"type\":\"scattergeo\"}],\"scattergl\":[{\"marker\":{\"colorbar\":{\"outlinewidth\":0,\"ticks\":\"\"}},\"type\":\"scattergl\"}],\"scattermapbox\":[{\"marker\":{\"colorbar\":{\"outlinewidth\":0,\"ticks\":\"\"}},\"type\":\"scattermapbox\"}],\"scatterpolar\":[{\"marker\":{\"colorbar\":{\"outlinewidth\":0,\"ticks\":\"\"}},\"type\":\"scatterpolar\"}],\"scatterpolargl\":[{\"marker\":{\"colorbar\":{\"outlinewidth\":0,\"ticks\":\"\"}},\"type\":\"scatterpolargl\"}],\"scatterternary\":[{\"marker\":{\"colorbar\":{\"outlinewidth\":0,\"ticks\":\"\"}},\"type\":\"scatterternary\"}],\"surface\":[{\"colorbar\":{\"outlinewidth\":0,\"ticks\":\"\"},\"colorscale\":[[0.0,\"#0d0887\"],[0.1111111111111111,\"#46039f\"],[0.2222222222222222,\"#7201a8\"],[0.3333333333333333,\"#9c179e\"],[0.4444444444444444,\"#bd3786\"],[0.5555555555555556,\"#d8576b\"],[0.6666666666666666,\"#ed7953\"],[0.7777777777777778,\"#fb9f3a\"],[0.8888888888888888,\"#fdca26\"],[1.0,\"#f0f921\"]],\"type\":\"surface\"}],\"table\":[{\"cells\":{\"fill\":{\"color\":\"#EBF0F8\"},\"line\":{\"color\":\"white\"}},\"header\":{\"fill\":{\"color\":\"#C8D4E3\"},\"line\":{\"color\":\"white\"}},\"type\":\"table\"}]},\"layout\":{\"annotationdefaults\":{\"arrowcolor\":\"#2a3f5f\",\"arrowhead\":0,\"arrowwidth\":1},\"autotypenumbers\":\"strict\",\"coloraxis\":{\"colorbar\":{\"outlinewidth\":0,\"ticks\":\"\"}},\"colorscale\":{\"diverging\":[[0,\"#8e0152\"],[0.1,\"#c51b7d\"],[0.2,\"#de77ae\"],[0.3,\"#f1b6da\"],[0.4,\"#fde0ef\"],[0.5,\"#f7f7f7\"],[0.6,\"#e6f5d0\"],[0.7,\"#b8e186\"],[0.8,\"#7fbc41\"],[0.9,\"#4d9221\"],[1,\"#276419\"]],\"sequential\":[[0.0,\"#0d0887\"],[0.1111111111111111,\"#46039f\"],[0.2222222222222222,\"#7201a8\"],[0.3333333333333333,\"#9c179e\"],[0.4444444444444444,\"#bd3786\"],[0.5555555555555556,\"#d8576b\"],[0.6666666666666666,\"#ed7953\"],[0.7777777777777778,\"#fb9f3a\"],[0.8888888888888888,\"#fdca26\"],[1.0,\"#f0f921\"]],\"sequentialminus\":[[0.0,\"#0d0887\"],[0.1111111111111111,\"#46039f\"],[0.2222222222222222,\"#7201a8\"],[0.3333333333333333,\"#9c179e\"],[0.4444444444444444,\"#bd3786\"],[0.5555555555555556,\"#d8576b\"],[0.6666666666666666,\"#ed7953\"],[0.7777777777777778,\"#fb9f3a\"],[0.8888888888888888,\"#fdca26\"],[1.0,\"#f0f921\"]]},\"colorway\":[\"#636efa\",\"#EF553B\",\"#00cc96\",\"#ab63fa\",\"#FFA15A\",\"#19d3f3\",\"#FF6692\",\"#B6E880\",\"#FF97FF\",\"#FECB52\"],\"font\":{\"color\":\"#2a3f5f\"},\"geo\":{\"bgcolor\":\"white\",\"lakecolor\":\"white\",\"landcolor\":\"#E5ECF6\",\"showlakes\":true,\"showland\":true,\"subunitcolor\":\"white\"},\"hoverlabel\":{\"align\":\"left\"},\"hovermode\":\"closest\",\"mapbox\":{\"style\":\"light\"},\"paper_bgcolor\":\"white\",\"plot_bgcolor\":\"#E5ECF6\",\"polar\":{\"angularaxis\":{\"gridcolor\":\"white\",\"linecolor\":\"white\",\"ticks\":\"\"},\"bgcolor\":\"#E5ECF6\",\"radialaxis\":{\"gridcolor\":\"white\",\"linecolor\":\"white\",\"ticks\":\"\"}},\"scene\":{\"xaxis\":{\"backgroundcolor\":\"#E5ECF6\",\"gridcolor\":\"white\",\"gridwidth\":2,\"linecolor\":\"white\",\"showbackground\":true,\"ticks\":\"\",\"zerolinecolor\":\"white\"},\"yaxis\":{\"backgroundcolor\":\"#E5ECF6\",\"gridcolor\":\"white\",\"gridwidth\":2,\"linecolor\":\"white\",\"showbackground\":true,\"ticks\":\"\",\"zerolinecolor\":\"white\"},\"zaxis\":{\"backgroundcolor\":\"#E5ECF6\",\"gridcolor\":\"white\",\"gridwidth\":2,\"linecolor\":\"white\",\"showbackground\":true,\"ticks\":\"\",\"zerolinecolor\":\"white\"}},\"shapedefaults\":{\"line\":{\"color\":\"#2a3f5f\"}},\"ternary\":{\"aaxis\":{\"gridcolor\":\"white\",\"linecolor\":\"white\",\"ticks\":\"\"},\"baxis\":{\"gridcolor\":\"white\",\"linecolor\":\"white\",\"ticks\":\"\"},\"bgcolor\":\"#E5ECF6\",\"caxis\":{\"gridcolor\":\"white\",\"linecolor\":\"white\",\"ticks\":\"\"}},\"title\":{\"x\":0.05},\"xaxis\":{\"automargin\":true,\"gridcolor\":\"white\",\"linecolor\":\"white\",\"ticks\":\"\",\"title\":{\"standoff\":15},\"zerolinecolor\":\"white\",\"zerolinewidth\":2},\"yaxis\":{\"automargin\":true,\"gridcolor\":\"white\",\"linecolor\":\"white\",\"ticks\":\"\",\"title\":{\"standoff\":15},\"zerolinecolor\":\"white\",\"zerolinewidth\":2}}},\"xaxis\":{\"anchor\":\"y\",\"domain\":[0.0,1.0],\"title\":{\"text\":\"authenticity_score\"}},\"yaxis\":{\"anchor\":\"x\",\"domain\":[0.0,1.0],\"title\":{\"text\":\"count\"}}},                        {\"responsive\": true}                    ).then(function(){\n",
       "                            \n",
       "var gd = document.getElementById('10d8af9e-0b3b-49c9-a242-2675b48d0f82');\n",
       "var x = new MutationObserver(function (mutations, observer) {{\n",
       "        var display = window.getComputedStyle(gd).display;\n",
       "        if (!display || display === 'none') {{\n",
       "            console.log([gd, 'removed!']);\n",
       "            Plotly.purge(gd);\n",
       "            observer.disconnect();\n",
       "        }}\n",
       "}});\n",
       "\n",
       "// Listen for the removal of the full notebook cells\n",
       "var notebookContainer = gd.closest('#notebook-container');\n",
       "if (notebookContainer) {{\n",
       "    x.observe(notebookContainer, {childList: true});\n",
       "}}\n",
       "\n",
       "// Listen for the clearing of the current output cell\n",
       "var outputEl = gd.closest('.output');\n",
       "if (outputEl) {{\n",
       "    x.observe(outputEl, {childList: true});\n",
       "}}\n",
       "\n",
       "                        })                };                });            </script>        </div>"
      ]
     },
     "metadata": {},
     "output_type": "display_data"
    }
   ],
   "source": [
    "fig = px.histogram(df_2, x=\"authenticity_score\", nbins=10)\n",
    "fig.show()"
   ]
  },
  {
   "cell_type": "code",
   "execution_count": 36,
   "id": "704bf92f-6b55-4370-9c76-b17b30bc6f37",
   "metadata": {},
   "outputs": [
    {
     "data": {
      "application/vnd.plotly.v1+json": {
       "config": {
        "plotlyServerURL": "https://plot.ly"
       },
       "data": [
        {
         "alignmentgroup": "True",
         "bingroup": "x",
         "hovertemplate": "authenticity_score=%{x}<br>count=%{y}<extra></extra>",
         "legendgroup": "",
         "marker": {
          "color": "#636efa",
          "pattern": {
           "shape": ""
          }
         },
         "name": "",
         "nbinsx": 10,
         "offsetgroup": "",
         "orientation": "v",
         "showlegend": false,
         "type": "histogram",
         "x": [
          0.570941746,
          0.028930377,
          0.456294835,
          0.844834566,
          0.989147663,
          0.387089431,
          0.023900373,
          0.036740664,
          0.591460764,
          0.98356688,
          0.557885587,
          0.982315838,
          0.990968406,
          0.127094552,
          0.973496318,
          0.795973837,
          0.967969298,
          0.984755456,
          0.970236659,
          0.867420435,
          0.962811768,
          0.991731226,
          0.989355862,
          0.967348158,
          0.991321623,
          0.982401192,
          0.987974882,
          0.982775629,
          0.989925027,
          0.980406284,
          0.885062754,
          0.988883972,
          0.988329291,
          0.989292383,
          0.989872813,
          0.990331769,
          0.984627664,
          0.987180412,
          0.392216265,
          0.904950678,
          0.975179732,
          0.983965516,
          0.991343737,
          0.077296004,
          0.988519132,
          0.991570473,
          0.038481083,
          0.989093304,
          0.982063413,
          0.990970612,
          0.991419435,
          0.986062944,
          0.220483869,
          0.978599966,
          0.979803026,
          0.987801135,
          0.983693779,
          0.296913177,
          0.984112918,
          0.991450608,
          0.989605546,
          0.99168855,
          0.045972418,
          0.98417896,
          0.988880038,
          0.990495086,
          0.982156217,
          0.990944862,
          0.975918591,
          0.983668149,
          0.983497381,
          0.989943862,
          0.989716828,
          0.034704398,
          0.679604709,
          0.983686268,
          0.986624122,
          0.913235545,
          0.981780648,
          0.902664065,
          0.969425559,
          0.990277171,
          0.983972907,
          0.98663193,
          0.978616178,
          0.554264963,
          0.881322742,
          0.026635006,
          0.968283415,
          0.884268403,
          0.024666684,
          0.978210628,
          0.537381411,
          0.991267979,
          0.982703328,
          0.963759601,
          0.190650016,
          0.978079319,
          0.966742039,
          0.960743308,
          0.989442229,
          0.969192922,
          0.988593221,
          0.986593723,
          0.974509597,
          0.984048724,
          0.988254309,
          0.990181744,
          0.525305629,
          0.991649151,
          0.896599293,
          0.991591334,
          0.991098344,
          0.976073146,
          0.990946174,
          0.990826309,
          0.985247016,
          0.989278495,
          0.972704113,
          0.984406948,
          0.990292788,
          0.986971438,
          0.991350055,
          0.99102354,
          0.375292391,
          0.985342622,
          0.97314328,
          0.927935243,
          0.988846719,
          0.987208664,
          0.948862731,
          0.992117703,
          0.990880847,
          0.09077584,
          0.990462124,
          0.980969548,
          0.977005899,
          0.976090908,
          0.980668604,
          0.988354683,
          0.98766917,
          0.020134335,
          0.872197032,
          0.985310316,
          0.979578853,
          0.828858733,
          0.942066014,
          0.986876607,
          0.965558946,
          0.943567872,
          0.936635613,
          0.976881444,
          0.990250587,
          0.898234189,
          0.808781385,
          0.989975035,
          0.9693169,
          0.991444886,
          0.990938067,
          0.990564704,
          0.885153174,
          0.342903674,
          0.97500211,
          0.990529954,
          0.989711642,
          0.991303921,
          0.98597461,
          0.978921473,
          0.98909086,
          0.901780486,
          0.055705938,
          0.9914698,
          0.987880409,
          0.989690304,
          0.989216447,
          0.980769157,
          0.99073267,
          0.984749556,
          0.990518272,
          0.991465509,
          0.863107741,
          0.975240111,
          0.99077636,
          0.988012791,
          0.988001645,
          0.982203364,
          0.990566552,
          0.989923179,
          0.990858734,
          0.964075506,
          0.985413253,
          0.485072702,
          0.976456285,
          0.987580121,
          0.970401883,
          0.62800163,
          0.061896414,
          0.965289295,
          0.970068157,
          0.988904834,
          0.480557829,
          0.825326264,
          0.974891305,
          0.194526926,
          0.989922106,
          0.593230844,
          0.139683902,
          0.991729915,
          0.986785829,
          0.990770698,
          0.988703132,
          0.964976013,
          0.429542482,
          0.982177734,
          0.987255573,
          0.716712534,
          0.832716584,
          0.933734775,
          0.979417622,
          0.904091954,
          0.073824398,
          0.037739728,
          0.933873534,
          0.921211779,
          0.990437329,
          0.94956702,
          0.985353172,
          0.974011838,
          0.982592344,
          0.913581908,
          0.949540675,
          0.441277534,
          0.975812495,
          0.973201096,
          0.984288454,
          0.845506728,
          0.477618515,
          0.837526858,
          0.986042321,
          0.056762528,
          0.989950716,
          0.270615667,
          0.22310476,
          0.97834903,
          0.990632057,
          0.886449516,
          0.972411513,
          0.632106841,
          0.991371393,
          0.674737155,
          0.106561191,
          0.057345726,
          0.077669255,
          0.02273968,
          0.019970097,
          0.5967049,
          0.989344001,
          0.990015447,
          0.989025652,
          0.988954186,
          0.989086986,
          0.987441957,
          0.986991763,
          0.986532032,
          0.986100495,
          0.975397527,
          0.035333574,
          0.976495147,
          0.983419299,
          0.974911094,
          0.945465207,
          0.981030345,
          0.919102669,
          0.95396018,
          0.984740317,
          0.965907693,
          0.988637984,
          0.990908325,
          0.934909046,
          0.988290668,
          0.964631796,
          0.056207772,
          0.974254847,
          0.98938328,
          0.073375501,
          0.990200102,
          0.972262144,
          0.979286373,
          0.97279501,
          0.985579848,
          0.96042937,
          0.977271378,
          0.988785386,
          0.990999997,
          0.025729485,
          0.990740657,
          0.991639555,
          0.918136477,
          0.97733736,
          0.987478137,
          0.988197505,
          0.983310282,
          0.990623891
         ],
         "xaxis": "x",
         "yaxis": "y"
        }
       ],
       "layout": {
        "autosize": true,
        "barmode": "relative",
        "legend": {
         "tracegroupgap": 0
        },
        "margin": {
         "t": 60
        },
        "template": {
         "data": {
          "bar": [
           {
            "error_x": {
             "color": "#2a3f5f"
            },
            "error_y": {
             "color": "#2a3f5f"
            },
            "marker": {
             "line": {
              "color": "#E5ECF6",
              "width": 0.5
             },
             "pattern": {
              "fillmode": "overlay",
              "size": 10,
              "solidity": 0.2
             }
            },
            "type": "bar"
           }
          ],
          "barpolar": [
           {
            "marker": {
             "line": {
              "color": "#E5ECF6",
              "width": 0.5
             },
             "pattern": {
              "fillmode": "overlay",
              "size": 10,
              "solidity": 0.2
             }
            },
            "type": "barpolar"
           }
          ],
          "carpet": [
           {
            "aaxis": {
             "endlinecolor": "#2a3f5f",
             "gridcolor": "white",
             "linecolor": "white",
             "minorgridcolor": "white",
             "startlinecolor": "#2a3f5f"
            },
            "baxis": {
             "endlinecolor": "#2a3f5f",
             "gridcolor": "white",
             "linecolor": "white",
             "minorgridcolor": "white",
             "startlinecolor": "#2a3f5f"
            },
            "type": "carpet"
           }
          ],
          "choropleth": [
           {
            "colorbar": {
             "outlinewidth": 0,
             "ticks": ""
            },
            "type": "choropleth"
           }
          ],
          "contour": [
           {
            "colorbar": {
             "outlinewidth": 0,
             "ticks": ""
            },
            "colorscale": [
             [
              0,
              "#0d0887"
             ],
             [
              0.1111111111111111,
              "#46039f"
             ],
             [
              0.2222222222222222,
              "#7201a8"
             ],
             [
              0.3333333333333333,
              "#9c179e"
             ],
             [
              0.4444444444444444,
              "#bd3786"
             ],
             [
              0.5555555555555556,
              "#d8576b"
             ],
             [
              0.6666666666666666,
              "#ed7953"
             ],
             [
              0.7777777777777778,
              "#fb9f3a"
             ],
             [
              0.8888888888888888,
              "#fdca26"
             ],
             [
              1,
              "#f0f921"
             ]
            ],
            "type": "contour"
           }
          ],
          "contourcarpet": [
           {
            "colorbar": {
             "outlinewidth": 0,
             "ticks": ""
            },
            "type": "contourcarpet"
           }
          ],
          "heatmap": [
           {
            "colorbar": {
             "outlinewidth": 0,
             "ticks": ""
            },
            "colorscale": [
             [
              0,
              "#0d0887"
             ],
             [
              0.1111111111111111,
              "#46039f"
             ],
             [
              0.2222222222222222,
              "#7201a8"
             ],
             [
              0.3333333333333333,
              "#9c179e"
             ],
             [
              0.4444444444444444,
              "#bd3786"
             ],
             [
              0.5555555555555556,
              "#d8576b"
             ],
             [
              0.6666666666666666,
              "#ed7953"
             ],
             [
              0.7777777777777778,
              "#fb9f3a"
             ],
             [
              0.8888888888888888,
              "#fdca26"
             ],
             [
              1,
              "#f0f921"
             ]
            ],
            "type": "heatmap"
           }
          ],
          "heatmapgl": [
           {
            "colorbar": {
             "outlinewidth": 0,
             "ticks": ""
            },
            "colorscale": [
             [
              0,
              "#0d0887"
             ],
             [
              0.1111111111111111,
              "#46039f"
             ],
             [
              0.2222222222222222,
              "#7201a8"
             ],
             [
              0.3333333333333333,
              "#9c179e"
             ],
             [
              0.4444444444444444,
              "#bd3786"
             ],
             [
              0.5555555555555556,
              "#d8576b"
             ],
             [
              0.6666666666666666,
              "#ed7953"
             ],
             [
              0.7777777777777778,
              "#fb9f3a"
             ],
             [
              0.8888888888888888,
              "#fdca26"
             ],
             [
              1,
              "#f0f921"
             ]
            ],
            "type": "heatmapgl"
           }
          ],
          "histogram": [
           {
            "marker": {
             "pattern": {
              "fillmode": "overlay",
              "size": 10,
              "solidity": 0.2
             }
            },
            "type": "histogram"
           }
          ],
          "histogram2d": [
           {
            "colorbar": {
             "outlinewidth": 0,
             "ticks": ""
            },
            "colorscale": [
             [
              0,
              "#0d0887"
             ],
             [
              0.1111111111111111,
              "#46039f"
             ],
             [
              0.2222222222222222,
              "#7201a8"
             ],
             [
              0.3333333333333333,
              "#9c179e"
             ],
             [
              0.4444444444444444,
              "#bd3786"
             ],
             [
              0.5555555555555556,
              "#d8576b"
             ],
             [
              0.6666666666666666,
              "#ed7953"
             ],
             [
              0.7777777777777778,
              "#fb9f3a"
             ],
             [
              0.8888888888888888,
              "#fdca26"
             ],
             [
              1,
              "#f0f921"
             ]
            ],
            "type": "histogram2d"
           }
          ],
          "histogram2dcontour": [
           {
            "colorbar": {
             "outlinewidth": 0,
             "ticks": ""
            },
            "colorscale": [
             [
              0,
              "#0d0887"
             ],
             [
              0.1111111111111111,
              "#46039f"
             ],
             [
              0.2222222222222222,
              "#7201a8"
             ],
             [
              0.3333333333333333,
              "#9c179e"
             ],
             [
              0.4444444444444444,
              "#bd3786"
             ],
             [
              0.5555555555555556,
              "#d8576b"
             ],
             [
              0.6666666666666666,
              "#ed7953"
             ],
             [
              0.7777777777777778,
              "#fb9f3a"
             ],
             [
              0.8888888888888888,
              "#fdca26"
             ],
             [
              1,
              "#f0f921"
             ]
            ],
            "type": "histogram2dcontour"
           }
          ],
          "mesh3d": [
           {
            "colorbar": {
             "outlinewidth": 0,
             "ticks": ""
            },
            "type": "mesh3d"
           }
          ],
          "parcoords": [
           {
            "line": {
             "colorbar": {
              "outlinewidth": 0,
              "ticks": ""
             }
            },
            "type": "parcoords"
           }
          ],
          "pie": [
           {
            "automargin": true,
            "type": "pie"
           }
          ],
          "scatter": [
           {
            "marker": {
             "colorbar": {
              "outlinewidth": 0,
              "ticks": ""
             }
            },
            "type": "scatter"
           }
          ],
          "scatter3d": [
           {
            "line": {
             "colorbar": {
              "outlinewidth": 0,
              "ticks": ""
             }
            },
            "marker": {
             "colorbar": {
              "outlinewidth": 0,
              "ticks": ""
             }
            },
            "type": "scatter3d"
           }
          ],
          "scattercarpet": [
           {
            "marker": {
             "colorbar": {
              "outlinewidth": 0,
              "ticks": ""
             }
            },
            "type": "scattercarpet"
           }
          ],
          "scattergeo": [
           {
            "marker": {
             "colorbar": {
              "outlinewidth": 0,
              "ticks": ""
             }
            },
            "type": "scattergeo"
           }
          ],
          "scattergl": [
           {
            "marker": {
             "colorbar": {
              "outlinewidth": 0,
              "ticks": ""
             }
            },
            "type": "scattergl"
           }
          ],
          "scattermapbox": [
           {
            "marker": {
             "colorbar": {
              "outlinewidth": 0,
              "ticks": ""
             }
            },
            "type": "scattermapbox"
           }
          ],
          "scatterpolar": [
           {
            "marker": {
             "colorbar": {
              "outlinewidth": 0,
              "ticks": ""
             }
            },
            "type": "scatterpolar"
           }
          ],
          "scatterpolargl": [
           {
            "marker": {
             "colorbar": {
              "outlinewidth": 0,
              "ticks": ""
             }
            },
            "type": "scatterpolargl"
           }
          ],
          "scatterternary": [
           {
            "marker": {
             "colorbar": {
              "outlinewidth": 0,
              "ticks": ""
             }
            },
            "type": "scatterternary"
           }
          ],
          "surface": [
           {
            "colorbar": {
             "outlinewidth": 0,
             "ticks": ""
            },
            "colorscale": [
             [
              0,
              "#0d0887"
             ],
             [
              0.1111111111111111,
              "#46039f"
             ],
             [
              0.2222222222222222,
              "#7201a8"
             ],
             [
              0.3333333333333333,
              "#9c179e"
             ],
             [
              0.4444444444444444,
              "#bd3786"
             ],
             [
              0.5555555555555556,
              "#d8576b"
             ],
             [
              0.6666666666666666,
              "#ed7953"
             ],
             [
              0.7777777777777778,
              "#fb9f3a"
             ],
             [
              0.8888888888888888,
              "#fdca26"
             ],
             [
              1,
              "#f0f921"
             ]
            ],
            "type": "surface"
           }
          ],
          "table": [
           {
            "cells": {
             "fill": {
              "color": "#EBF0F8"
             },
             "line": {
              "color": "white"
             }
            },
            "header": {
             "fill": {
              "color": "#C8D4E3"
             },
             "line": {
              "color": "white"
             }
            },
            "type": "table"
           }
          ]
         },
         "layout": {
          "annotationdefaults": {
           "arrowcolor": "#2a3f5f",
           "arrowhead": 0,
           "arrowwidth": 1
          },
          "autotypenumbers": "strict",
          "coloraxis": {
           "colorbar": {
            "outlinewidth": 0,
            "ticks": ""
           }
          },
          "colorscale": {
           "diverging": [
            [
             0,
             "#8e0152"
            ],
            [
             0.1,
             "#c51b7d"
            ],
            [
             0.2,
             "#de77ae"
            ],
            [
             0.3,
             "#f1b6da"
            ],
            [
             0.4,
             "#fde0ef"
            ],
            [
             0.5,
             "#f7f7f7"
            ],
            [
             0.6,
             "#e6f5d0"
            ],
            [
             0.7,
             "#b8e186"
            ],
            [
             0.8,
             "#7fbc41"
            ],
            [
             0.9,
             "#4d9221"
            ],
            [
             1,
             "#276419"
            ]
           ],
           "sequential": [
            [
             0,
             "#0d0887"
            ],
            [
             0.1111111111111111,
             "#46039f"
            ],
            [
             0.2222222222222222,
             "#7201a8"
            ],
            [
             0.3333333333333333,
             "#9c179e"
            ],
            [
             0.4444444444444444,
             "#bd3786"
            ],
            [
             0.5555555555555556,
             "#d8576b"
            ],
            [
             0.6666666666666666,
             "#ed7953"
            ],
            [
             0.7777777777777778,
             "#fb9f3a"
            ],
            [
             0.8888888888888888,
             "#fdca26"
            ],
            [
             1,
             "#f0f921"
            ]
           ],
           "sequentialminus": [
            [
             0,
             "#0d0887"
            ],
            [
             0.1111111111111111,
             "#46039f"
            ],
            [
             0.2222222222222222,
             "#7201a8"
            ],
            [
             0.3333333333333333,
             "#9c179e"
            ],
            [
             0.4444444444444444,
             "#bd3786"
            ],
            [
             0.5555555555555556,
             "#d8576b"
            ],
            [
             0.6666666666666666,
             "#ed7953"
            ],
            [
             0.7777777777777778,
             "#fb9f3a"
            ],
            [
             0.8888888888888888,
             "#fdca26"
            ],
            [
             1,
             "#f0f921"
            ]
           ]
          },
          "colorway": [
           "#636efa",
           "#EF553B",
           "#00cc96",
           "#ab63fa",
           "#FFA15A",
           "#19d3f3",
           "#FF6692",
           "#B6E880",
           "#FF97FF",
           "#FECB52"
          ],
          "font": {
           "color": "#2a3f5f"
          },
          "geo": {
           "bgcolor": "white",
           "lakecolor": "white",
           "landcolor": "#E5ECF6",
           "showlakes": true,
           "showland": true,
           "subunitcolor": "white"
          },
          "hoverlabel": {
           "align": "left"
          },
          "hovermode": "closest",
          "mapbox": {
           "style": "light"
          },
          "paper_bgcolor": "white",
          "plot_bgcolor": "#E5ECF6",
          "polar": {
           "angularaxis": {
            "gridcolor": "white",
            "linecolor": "white",
            "ticks": ""
           },
           "bgcolor": "#E5ECF6",
           "radialaxis": {
            "gridcolor": "white",
            "linecolor": "white",
            "ticks": ""
           }
          },
          "scene": {
           "xaxis": {
            "backgroundcolor": "#E5ECF6",
            "gridcolor": "white",
            "gridwidth": 2,
            "linecolor": "white",
            "showbackground": true,
            "ticks": "",
            "zerolinecolor": "white"
           },
           "yaxis": {
            "backgroundcolor": "#E5ECF6",
            "gridcolor": "white",
            "gridwidth": 2,
            "linecolor": "white",
            "showbackground": true,
            "ticks": "",
            "zerolinecolor": "white"
           },
           "zaxis": {
            "backgroundcolor": "#E5ECF6",
            "gridcolor": "white",
            "gridwidth": 2,
            "linecolor": "white",
            "showbackground": true,
            "ticks": "",
            "zerolinecolor": "white"
           }
          },
          "shapedefaults": {
           "line": {
            "color": "#2a3f5f"
           }
          },
          "ternary": {
           "aaxis": {
            "gridcolor": "white",
            "linecolor": "white",
            "ticks": ""
           },
           "baxis": {
            "gridcolor": "white",
            "linecolor": "white",
            "ticks": ""
           },
           "bgcolor": "#E5ECF6",
           "caxis": {
            "gridcolor": "white",
            "linecolor": "white",
            "ticks": ""
           }
          },
          "title": {
           "x": 0.05
          },
          "xaxis": {
           "automargin": true,
           "gridcolor": "white",
           "linecolor": "white",
           "ticks": "",
           "title": {
            "standoff": 15
           },
           "zerolinecolor": "white",
           "zerolinewidth": 2
          },
          "yaxis": {
           "automargin": true,
           "gridcolor": "white",
           "linecolor": "white",
           "ticks": "",
           "title": {
            "standoff": 15
           },
           "zerolinecolor": "white",
           "zerolinewidth": 2
          }
         }
        },
        "xaxis": {
         "anchor": "y",
         "autorange": true,
         "domain": [
          0,
          1
         ],
         "range": [
          6.938893903907228e-17,
          0.9999999999999999
         ],
         "title": {
          "text": "authenticity_score"
         },
         "type": "linear"
        },
        "yaxis": {
         "anchor": "x",
         "autorange": true,
         "domain": [
          0,
          1
         ],
         "range": [
          0,
          241.05263157894737
         ],
         "title": {
          "text": "count"
         }
        }
       }
      },
      "image/png": "[encoded data removed]",
      "text/html": [
       "<div>                            <div id=\"5ffb8f29-29ab-43b0-8022-9f37cde76feb\" class=\"plotly-graph-div\" style=\"height:525px; width:100%;\"></div>            <script type=\"text/javascript\">                require([\"plotly\"], function(Plotly) {                    window.PLOTLYENV=window.PLOTLYENV || {};                                    if (document.getElementById(\"5ffb8f29-29ab-43b0-8022-9f37cde76feb\")) {                    Plotly.newPlot(                        \"5ffb8f29-29ab-43b0-8022-9f37cde76feb\",                        [{\"alignmentgroup\":\"True\",\"bingroup\":\"x\",\"hovertemplate\":\"authenticity_score=%{x}<br>count=%{y}<extra></extra>\",\"legendgroup\":\"\",\"marker\":{\"color\":\"#636efa\",\"pattern\":{\"shape\":\"\"}},\"name\":\"\",\"nbinsx\":10,\"offsetgroup\":\"\",\"orientation\":\"v\",\"showlegend\":false,\"type\":\"histogram\",\"x\":[0.570941746,0.028930377,0.456294835,0.844834566,0.989147663,0.387089431,0.023900373,0.036740664,0.591460764,0.98356688,0.557885587,0.982315838,0.990968406,0.127094552,0.973496318,0.795973837,0.967969298,0.984755456,0.970236659,0.867420435,0.962811768,0.991731226,0.989355862,0.967348158,0.991321623,0.982401192,0.987974882,0.982775629,0.989925027,0.980406284,0.885062754,0.988883972,0.988329291,0.989292383,0.989872813,0.990331769,0.984627664,0.987180412,0.392216265,0.904950678,0.975179732,0.983965516,0.991343737,0.077296004,0.988519132,0.991570473,0.038481083,0.989093304,0.982063413,0.990970612,0.991419435,0.986062944,0.220483869,0.978599966,0.979803026,0.987801135,0.983693779,0.296913177,0.984112918,0.991450608,0.989605546,0.99168855,0.045972418,0.98417896,0.988880038,0.990495086,0.982156217,0.990944862,0.975918591,0.983668149,0.983497381,0.989943862,0.989716828,0.034704398,0.679604709,0.983686268,0.986624122,0.913235545,0.981780648,0.902664065,0.969425559,0.990277171,0.983972907,0.98663193,0.978616178,0.554264963,0.881322742,0.026635006,0.968283415,0.884268403,0.024666684,0.978210628,0.537381411,0.991267979,0.982703328,0.963759601,0.190650016,0.978079319,0.966742039,0.960743308,0.989442229,0.969192922,0.988593221,0.986593723,0.974509597,0.984048724,0.988254309,0.990181744,0.525305629,0.991649151,0.896599293,0.991591334,0.991098344,0.976073146,0.990946174,0.990826309,0.985247016,0.989278495,0.972704113,0.984406948,0.990292788,0.986971438,0.991350055,0.99102354,0.375292391,0.985342622,0.97314328,0.927935243,0.988846719,0.987208664,0.948862731,0.992117703,0.990880847,0.09077584,0.990462124,0.980969548,0.977005899,0.976090908,0.980668604,0.988354683,0.98766917,0.020134335,0.872197032,0.985310316,0.979578853,0.828858733,0.942066014,0.986876607,0.965558946,0.943567872,0.936635613,0.976881444,0.990250587,0.898234189,0.808781385,0.989975035,0.9693169,0.991444886,0.990938067,0.990564704,0.885153174,0.342903674,0.97500211,0.990529954,0.989711642,0.991303921,0.98597461,0.978921473,0.98909086,0.901780486,0.055705938,0.9914698,0.987880409,0.989690304,0.989216447,0.980769157,0.99073267,0.984749556,0.990518272,0.991465509,0.863107741,0.975240111,0.99077636,0.988012791,0.988001645,0.982203364,0.990566552,0.989923179,0.990858734,0.964075506,0.985413253,0.485072702,0.976456285,0.987580121,0.970401883,0.62800163,0.061896414,0.965289295,0.970068157,0.988904834,0.480557829,0.825326264,0.974891305,0.194526926,0.989922106,0.593230844,0.139683902,0.991729915,0.986785829,0.990770698,0.988703132,0.964976013,0.429542482,0.982177734,0.987255573,0.716712534,0.832716584,0.933734775,0.979417622,0.904091954,0.073824398,0.037739728,0.933873534,0.921211779,0.990437329,0.94956702,0.985353172,0.974011838,0.982592344,0.913581908,0.949540675,0.441277534,0.975812495,0.973201096,0.984288454,0.845506728,0.477618515,0.837526858,0.986042321,0.056762528,0.989950716,0.270615667,0.22310476,0.97834903,0.990632057,0.886449516,0.972411513,0.632106841,0.991371393,0.674737155,0.106561191,0.057345726,0.077669255,0.02273968,0.019970097,0.5967049,0.989344001,0.990015447,0.989025652,0.988954186,0.989086986,0.987441957,0.986991763,0.986532032,0.986100495,0.975397527,0.035333574,0.976495147,0.983419299,0.974911094,0.945465207,0.981030345,0.919102669,0.95396018,0.984740317,0.965907693,0.988637984,0.990908325,0.934909046,0.988290668,0.964631796,0.056207772,0.974254847,0.98938328,0.073375501,0.990200102,0.972262144,0.979286373,0.97279501,0.985579848,0.96042937,0.977271378,0.988785386,0.990999997,0.025729485,0.990740657,0.991639555,0.918136477,0.97733736,0.987478137,0.988197505,0.983310282,0.990623891],\"xaxis\":\"x\",\"yaxis\":\"y\"}],                        {\"barmode\":\"relative\",\"legend\":{\"tracegroupgap\":0},\"margin\":{\"t\":60},\"template\":{\"data\":{\"bar\":[{\"error_x\":{\"color\":\"#2a3f5f\"},\"error_y\":{\"color\":\"#2a3f5f\"},\"marker\":{\"line\":{\"color\":\"#E5ECF6\",\"width\":0.5},\"pattern\":{\"fillmode\":\"overlay\",\"size\":10,\"solidity\":0.2}},\"type\":\"bar\"}],\"barpolar\":[{\"marker\":{\"line\":{\"color\":\"#E5ECF6\",\"width\":0.5},\"pattern\":{\"fillmode\":\"overlay\",\"size\":10,\"solidity\":0.2}},\"type\":\"barpolar\"}],\"carpet\":[{\"aaxis\":{\"endlinecolor\":\"#2a3f5f\",\"gridcolor\":\"white\",\"linecolor\":\"white\",\"minorgridcolor\":\"white\",\"startlinecolor\":\"#2a3f5f\"},\"baxis\":{\"endlinecolor\":\"#2a3f5f\",\"gridcolor\":\"white\",\"linecolor\":\"white\",\"minorgridcolor\":\"white\",\"startlinecolor\":\"#2a3f5f\"},\"type\":\"carpet\"}],\"choropleth\":[{\"colorbar\":{\"outlinewidth\":0,\"ticks\":\"\"},\"type\":\"choropleth\"}],\"contour\":[{\"colorbar\":{\"outlinewidth\":0,\"ticks\":\"\"},\"colorscale\":[[0.0,\"#0d0887\"],[0.1111111111111111,\"#46039f\"],[0.2222222222222222,\"#7201a8\"],[0.3333333333333333,\"#9c179e\"],[0.4444444444444444,\"#bd3786\"],[0.5555555555555556,\"#d8576b\"],[0.6666666666666666,\"#ed7953\"],[0.7777777777777778,\"#fb9f3a\"],[0.8888888888888888,\"#fdca26\"],[1.0,\"#f0f921\"]],\"type\":\"contour\"}],\"contourcarpet\":[{\"colorbar\":{\"outlinewidth\":0,\"ticks\":\"\"},\"type\":\"contourcarpet\"}],\"heatmap\":[{\"colorbar\":{\"outlinewidth\":0,\"ticks\":\"\"},\"colorscale\":[[0.0,\"#0d0887\"],[0.1111111111111111,\"#46039f\"],[0.2222222222222222,\"#7201a8\"],[0.3333333333333333,\"#9c179e\"],[0.4444444444444444,\"#bd3786\"],[0.5555555555555556,\"#d8576b\"],[0.6666666666666666,\"#ed7953\"],[0.7777777777777778,\"#fb9f3a\"],[0.8888888888888888,\"#fdca26\"],[1.0,\"#f0f921\"]],\"type\":\"heatmap\"}],\"heatmapgl\":[{\"colorbar\":{\"outlinewidth\":0,\"ticks\":\"\"},\"colorscale\":[[0.0,\"#0d0887\"],[0.1111111111111111,\"#46039f\"],[0.2222222222222222,\"#7201a8\"],[0.3333333333333333,\"#9c179e\"],[0.4444444444444444,\"#bd3786\"],[0.5555555555555556,\"#d8576b\"],[0.6666666666666666,\"#ed7953\"],[0.7777777777777778,\"#fb9f3a\"],[0.8888888888888888,\"#fdca26\"],[1.0,\"#f0f921\"]],\"type\":\"heatmapgl\"}],\"histogram\":[{\"marker\":{\"pattern\":{\"fillmode\":\"overlay\",\"size\":10,\"solidity\":0.2}},\"type\":\"histogram\"}],\"histogram2d\":[{\"colorbar\":{\"outlinewidth\":0,\"ticks\":\"\"},\"colorscale\":[[0.0,\"#0d0887\"],[0.1111111111111111,\"#46039f\"],[0.2222222222222222,\"#7201a8\"],[0.3333333333333333,\"#9c179e\"],[0.4444444444444444,\"#bd3786\"],[0.5555555555555556,\"#d8576b\"],[0.6666666666666666,\"#ed7953\"],[0.7777777777777778,\"#fb9f3a\"],[0.8888888888888888,\"#fdca26\"],[1.0,\"#f0f921\"]],\"type\":\"histogram2d\"}],\"histogram2dcontour\":[{\"colorbar\":{\"outlinewidth\":0,\"ticks\":\"\"},\"colorscale\":[[0.0,\"#0d0887\"],[0.1111111111111111,\"#46039f\"],[0.2222222222222222,\"#7201a8\"],[0.3333333333333333,\"#9c179e\"],[0.4444444444444444,\"#bd3786\"],[0.5555555555555556,\"#d8576b\"],[0.6666666666666666,\"#ed7953\"],[0.7777777777777778,\"#fb9f3a\"],[0.8888888888888888,\"#fdca26\"],[1.0,\"#f0f921\"]],\"type\":\"histogram2dcontour\"}],\"mesh3d\":[{\"colorbar\":{\"outlinewidth\":0,\"ticks\":\"\"},\"type\":\"mesh3d\"}],\"parcoords\":[{\"line\":{\"colorbar\":{\"outlinewidth\":0,\"ticks\":\"\"}},\"type\":\"parcoords\"}],\"pie\":[{\"automargin\":true,\"type\":\"pie\"}],\"scatter\":[{\"marker\":{\"colorbar\":{\"outlinewidth\":0,\"ticks\":\"\"}},\"type\":\"scatter\"}],\"scatter3d\":[{\"line\":{\"colorbar\":{\"outlinewidth\":0,\"ticks\":\"\"}},\"marker\":{\"colorbar\":{\"outlinewidth\":0,\"ticks\":\"\"}},\"type\":\"scatter3d\"}],\"scattercarpet\":[{\"marker\":{\"colorbar\":{\"outlinewidth\":0,\"ticks\":\"\"}},\"type\":\"scattercarpet\"}],\"scattergeo\":[{\"marker\":{\"colorbar\":{\"outlinewidth\":0,\"ticks\":\"\"}},\"type\":\"scattergeo\"}],\"scattergl\":[{\"marker\":{\"colorbar\":{\"outlinewidth\":0,\"ticks\":\"\"}},\"type\":\"scattergl\"}],\"scattermapbox\":[{\"marker\":{\"colorbar\":{\"outlinewidth\":0,\"ticks\":\"\"}},\"type\":\"scattermapbox\"}],\"scatterpolar\":[{\"marker\":{\"colorbar\":{\"outlinewidth\":0,\"ticks\":\"\"}},\"type\":\"scatterpolar\"}],\"scatterpolargl\":[{\"marker\":{\"colorbar\":{\"outlinewidth\":0,\"ticks\":\"\"}},\"type\":\"scatterpolargl\"}],\"scatterternary\":[{\"marker\":{\"colorbar\":{\"outlinewidth\":0,\"ticks\":\"\"}},\"type\":\"scatterternary\"}],\"surface\":[{\"colorbar\":{\"outlinewidth\":0,\"ticks\":\"\"},\"colorscale\":[[0.0,\"#0d0887\"],[0.1111111111111111,\"#46039f\"],[0.2222222222222222,\"#7201a8\"],[0.3333333333333333,\"#9c179e\"],[0.4444444444444444,\"#bd3786\"],[0.5555555555555556,\"#d8576b\"],[0.6666666666666666,\"#ed7953\"],[0.7777777777777778,\"#fb9f3a\"],[0.8888888888888888,\"#fdca26\"],[1.0,\"#f0f921\"]],\"type\":\"surface\"}],\"table\":[{\"cells\":{\"fill\":{\"color\":\"#EBF0F8\"},\"line\":{\"color\":\"white\"}},\"header\":{\"fill\":{\"color\":\"#C8D4E3\"},\"line\":{\"color\":\"white\"}},\"type\":\"table\"}]},\"layout\":{\"annotationdefaults\":{\"arrowcolor\":\"#2a3f5f\",\"arrowhead\":0,\"arrowwidth\":1},\"autotypenumbers\":\"strict\",\"coloraxis\":{\"colorbar\":{\"outlinewidth\":0,\"ticks\":\"\"}},\"colorscale\":{\"diverging\":[[0,\"#8e0152\"],[0.1,\"#c51b7d\"],[0.2,\"#de77ae\"],[0.3,\"#f1b6da\"],[0.4,\"#fde0ef\"],[0.5,\"#f7f7f7\"],[0.6,\"#e6f5d0\"],[0.7,\"#b8e186\"],[0.8,\"#7fbc41\"],[0.9,\"#4d9221\"],[1,\"#276419\"]],\"sequential\":[[0.0,\"#0d0887\"],[0.1111111111111111,\"#46039f\"],[0.2222222222222222,\"#7201a8\"],[0.3333333333333333,\"#9c179e\"],[0.4444444444444444,\"#bd3786\"],[0.5555555555555556,\"#d8576b\"],[0.6666666666666666,\"#ed7953\"],[0.7777777777777778,\"#fb9f3a\"],[0.8888888888888888,\"#fdca26\"],[1.0,\"#f0f921\"]],\"sequentialminus\":[[0.0,\"#0d0887\"],[0.1111111111111111,\"#46039f\"],[0.2222222222222222,\"#7201a8\"],[0.3333333333333333,\"#9c179e\"],[0.4444444444444444,\"#bd3786\"],[0.5555555555555556,\"#d8576b\"],[0.6666666666666666,\"#ed7953\"],[0.7777777777777778,\"#fb9f3a\"],[0.8888888888888888,\"#fdca26\"],[1.0,\"#f0f921\"]]},\"colorway\":[\"#636efa\",\"#EF553B\",\"#00cc96\",\"#ab63fa\",\"#FFA15A\",\"#19d3f3\",\"#FF6692\",\"#B6E880\",\"#FF97FF\",\"#FECB52\"],\"font\":{\"color\":\"#2a3f5f\"},\"geo\":{\"bgcolor\":\"white\",\"lakecolor\":\"white\",\"landcolor\":\"#E5ECF6\",\"showlakes\":true,\"showland\":true,\"subunitcolor\":\"white\"},\"hoverlabel\":{\"align\":\"left\"},\"hovermode\":\"closest\",\"mapbox\":{\"style\":\"light\"},\"paper_bgcolor\":\"white\",\"plot_bgcolor\":\"#E5ECF6\",\"polar\":{\"angularaxis\":{\"gridcolor\":\"white\",\"linecolor\":\"white\",\"ticks\":\"\"},\"bgcolor\":\"#E5ECF6\",\"radialaxis\":{\"gridcolor\":\"white\",\"linecolor\":\"white\",\"ticks\":\"\"}},\"scene\":{\"xaxis\":{\"backgroundcolor\":\"#E5ECF6\",\"gridcolor\":\"white\",\"gridwidth\":2,\"linecolor\":\"white\",\"showbackground\":true,\"ticks\":\"\",\"zerolinecolor\":\"white\"},\"yaxis\":{\"backgroundcolor\":\"#E5ECF6\",\"gridcolor\":\"white\",\"gridwidth\":2,\"linecolor\":\"white\",\"showbackground\":true,\"ticks\":\"\",\"zerolinecolor\":\"white\"},\"zaxis\":{\"backgroundcolor\":\"#E5ECF6\",\"gridcolor\":\"white\",\"gridwidth\":2,\"linecolor\":\"white\",\"showbackground\":true,\"ticks\":\"\",\"zerolinecolor\":\"white\"}},\"shapedefaults\":{\"line\":{\"color\":\"#2a3f5f\"}},\"ternary\":{\"aaxis\":{\"gridcolor\":\"white\",\"linecolor\":\"white\",\"ticks\":\"\"},\"baxis\":{\"gridcolor\":\"white\",\"linecolor\":\"white\",\"ticks\":\"\"},\"bgcolor\":\"#E5ECF6\",\"caxis\":{\"gridcolor\":\"white\",\"linecolor\":\"white\",\"ticks\":\"\"}},\"title\":{\"x\":0.05},\"xaxis\":{\"automargin\":true,\"gridcolor\":\"white\",\"linecolor\":\"white\",\"ticks\":\"\",\"title\":{\"standoff\":15},\"zerolinecolor\":\"white\",\"zerolinewidth\":2},\"yaxis\":{\"automargin\":true,\"gridcolor\":\"white\",\"linecolor\":\"white\",\"ticks\":\"\",\"title\":{\"standoff\":15},\"zerolinecolor\":\"white\",\"zerolinewidth\":2}}},\"xaxis\":{\"anchor\":\"y\",\"domain\":[0.0,1.0],\"title\":{\"text\":\"authenticity_score\"}},\"yaxis\":{\"anchor\":\"x\",\"domain\":[0.0,1.0],\"title\":{\"text\":\"count\"}}},                        {\"responsive\": true}                    ).then(function(){\n",
       "                            \n",
       "var gd = document.getElementById('5ffb8f29-29ab-43b0-8022-9f37cde76feb');\n",
       "var x = new MutationObserver(function (mutations, observer) {{\n",
       "        var display = window.getComputedStyle(gd).display;\n",
       "        if (!display || display === 'none') {{\n",
       "            console.log([gd, 'removed!']);\n",
       "            Plotly.purge(gd);\n",
       "            observer.disconnect();\n",
       "        }}\n",
       "}});\n",
       "\n",
       "// Listen for the removal of the full notebook cells\n",
       "var notebookContainer = gd.closest('#notebook-container');\n",
       "if (notebookContainer) {{\n",
       "    x.observe(notebookContainer, {childList: true});\n",
       "}}\n",
       "\n",
       "// Listen for the clearing of the current output cell\n",
       "var outputEl = gd.closest('.output');\n",
       "if (outputEl) {{\n",
       "    x.observe(outputEl, {childList: true});\n",
       "}}\n",
       "\n",
       "                        })                };                });            </script>        </div>"
      ]
     },
     "metadata": {},
     "output_type": "display_data"
    }
   ],
   "source": [
    "fig = px.histogram(df_3, x=\"authenticity_score\", nbins=10)\n",
    "fig.show()"
   ]
  },
  {
   "cell_type": "code",
   "execution_count": 37,
   "id": "595143b4-d9c7-4989-8030-8a0f8263e2ed",
   "metadata": {},
   "outputs": [
    {
     "data": {
      "text/html": [
       "<div>\n",
       "<style scoped>\n",
       "    .dataframe tbody tr th:only-of-type {\n",
       "        vertical-align: middle;\n",
       "    }\n",
       "\n",
       "    .dataframe tbody tr th {\n",
       "        vertical-align: top;\n",
       "    }\n",
       "\n",
       "    .dataframe thead th {\n",
       "        text-align: right;\n",
       "    }\n",
       "</style>\n",
       "<table border=\"1\" class=\"dataframe\">\n",
       "  <thead>\n",
       "    <tr style=\"text-align: right;\">\n",
       "      <th></th>\n",
       "      <th>id</th>\n",
       "      <th>document_text</th>\n",
       "      <th>authenticity_score</th>\n",
       "    </tr>\n",
       "  </thead>\n",
       "  <tbody>\n",
       "    <tr>\n",
       "      <th>17</th>\n",
       "      <td>49001018</td>\n",
       "      <td>The eyes of your understanding being enlighten...</td>\n",
       "      <td>0.027845</td>\n",
       "    </tr>\n",
       "    <tr>\n",
       "      <th>24</th>\n",
       "      <td>49002002</td>\n",
       "      <td>Wherein in time past ye walked according to th...</td>\n",
       "      <td>0.016948</td>\n",
       "    </tr>\n",
       "    <tr>\n",
       "      <th>86</th>\n",
       "      <td>49004021</td>\n",
       "      <td>If so be that ye have heard him, and have been...</td>\n",
       "      <td>0.023620</td>\n",
       "    </tr>\n",
       "    <tr>\n",
       "      <th>91</th>\n",
       "      <td>49004026</td>\n",
       "      <td>Be ye angry, and sin not: let not the sun go d...</td>\n",
       "      <td>0.040323</td>\n",
       "    </tr>\n",
       "    <tr>\n",
       "      <th>96</th>\n",
       "      <td>49004031</td>\n",
       "      <td>Let all bitterness, and wrath, and anger, and ...</td>\n",
       "      <td>0.024251</td>\n",
       "    </tr>\n",
       "    <tr>\n",
       "      <th>113</th>\n",
       "      <td>49005016</td>\n",
       "      <td>Redeeming the time, because the days are evil.</td>\n",
       "      <td>0.057268</td>\n",
       "    </tr>\n",
       "    <tr>\n",
       "      <th>119</th>\n",
       "      <td>49005022</td>\n",
       "      <td>Wives, submit yourselves unto your own husband...</td>\n",
       "      <td>0.053044</td>\n",
       "    </tr>\n",
       "    <tr>\n",
       "      <th>125</th>\n",
       "      <td>49005028</td>\n",
       "      <td>So ought men to love their wives as their own ...</td>\n",
       "      <td>0.023206</td>\n",
       "    </tr>\n",
       "    <tr>\n",
       "      <th>134</th>\n",
       "      <td>49006004</td>\n",
       "      <td>And, ye fathers, provoke not your children to ...</td>\n",
       "      <td>0.066783</td>\n",
       "    </tr>\n",
       "    <tr>\n",
       "      <th>139</th>\n",
       "      <td>49006009</td>\n",
       "      <td>And, ye masters, do the same things unto them,...</td>\n",
       "      <td>0.037981</td>\n",
       "    </tr>\n",
       "    <tr>\n",
       "      <th>146</th>\n",
       "      <td>49006016</td>\n",
       "      <td>Above all, taking the shield of faith, wherewi...</td>\n",
       "      <td>0.042288</td>\n",
       "    </tr>\n",
       "    <tr>\n",
       "      <th>160</th>\n",
       "      <td>51001006</td>\n",
       "      <td>Which is come unto you, as it is in all the wo...</td>\n",
       "      <td>0.017709</td>\n",
       "    </tr>\n",
       "    <tr>\n",
       "      <th>201</th>\n",
       "      <td>51002018</td>\n",
       "      <td>Let no man beguile you of your reward in a vol...</td>\n",
       "      <td>0.027399</td>\n",
       "    </tr>\n",
       "    <tr>\n",
       "      <th>215</th>\n",
       "      <td>51003009</td>\n",
       "      <td>Lie not one to another, seeing that ye have pu...</td>\n",
       "      <td>0.026781</td>\n",
       "    </tr>\n",
       "    <tr>\n",
       "      <th>222</th>\n",
       "      <td>51003016</td>\n",
       "      <td>Let the word of Christ dwell in you richly in ...</td>\n",
       "      <td>0.064251</td>\n",
       "    </tr>\n",
       "    <tr>\n",
       "      <th>225</th>\n",
       "      <td>51003019</td>\n",
       "      <td>Husbands, love your wives, and be not bitter a...</td>\n",
       "      <td>0.034510</td>\n",
       "    </tr>\n",
       "    <tr>\n",
       "      <th>232</th>\n",
       "      <td>51004001</td>\n",
       "      <td>Masters, give unto your servants that which is...</td>\n",
       "      <td>0.023747</td>\n",
       "    </tr>\n",
       "    <tr>\n",
       "      <th>236</th>\n",
       "      <td>51004005</td>\n",
       "      <td>Walk in wisdom toward them that are without, r...</td>\n",
       "      <td>0.024525</td>\n",
       "    </tr>\n",
       "    <tr>\n",
       "      <th>241</th>\n",
       "      <td>51004010</td>\n",
       "      <td>Aristarchus my fellowprisoner saluteth you, an...</td>\n",
       "      <td>0.068212</td>\n",
       "    </tr>\n",
       "    <tr>\n",
       "      <th>245</th>\n",
       "      <td>51004014</td>\n",
       "      <td>Luke, the beloved physician, and Demas, greet ...</td>\n",
       "      <td>0.051497</td>\n",
       "    </tr>\n",
       "    <tr>\n",
       "      <th>269</th>\n",
       "      <td>53002008</td>\n",
       "      <td>And then shall that Wicked be revealed, whom t...</td>\n",
       "      <td>0.026775</td>\n",
       "    </tr>\n",
       "    <tr>\n",
       "      <th>270</th>\n",
       "      <td>53002009</td>\n",
       "      <td>Even him, whose coming is after the working of...</td>\n",
       "      <td>0.084977</td>\n",
       "    </tr>\n",
       "    <tr>\n",
       "      <th>281</th>\n",
       "      <td>53003003</td>\n",
       "      <td>But the Lord is faithful, who shall stablish y...</td>\n",
       "      <td>0.017023</td>\n",
       "    </tr>\n",
       "  </tbody>\n",
       "</table>\n",
       "</div>"
      ],
      "text/plain": [
       "           id                                      document_text  \\\n",
       "17   49001018  The eyes of your understanding being enlighten...   \n",
       "24   49002002  Wherein in time past ye walked according to th...   \n",
       "86   49004021  If so be that ye have heard him, and have been...   \n",
       "91   49004026  Be ye angry, and sin not: let not the sun go d...   \n",
       "96   49004031  Let all bitterness, and wrath, and anger, and ...   \n",
       "113  49005016     Redeeming the time, because the days are evil.   \n",
       "119  49005022  Wives, submit yourselves unto your own husband...   \n",
       "125  49005028  So ought men to love their wives as their own ...   \n",
       "134  49006004  And, ye fathers, provoke not your children to ...   \n",
       "139  49006009  And, ye masters, do the same things unto them,...   \n",
       "146  49006016  Above all, taking the shield of faith, wherewi...   \n",
       "160  51001006  Which is come unto you, as it is in all the wo...   \n",
       "201  51002018  Let no man beguile you of your reward in a vol...   \n",
       "215  51003009  Lie not one to another, seeing that ye have pu...   \n",
       "222  51003016  Let the word of Christ dwell in you richly in ...   \n",
       "225  51003019  Husbands, love your wives, and be not bitter a...   \n",
       "232  51004001  Masters, give unto your servants that which is...   \n",
       "236  51004005  Walk in wisdom toward them that are without, r...   \n",
       "241  51004010  Aristarchus my fellowprisoner saluteth you, an...   \n",
       "245  51004014  Luke, the beloved physician, and Demas, greet ...   \n",
       "269  53002008  And then shall that Wicked be revealed, whom t...   \n",
       "270  53002009  Even him, whose coming is after the working of...   \n",
       "281  53003003  But the Lord is faithful, who shall stablish y...   \n",
       "\n",
       "     authenticity_score  \n",
       "17             0.027845  \n",
       "24             0.016948  \n",
       "86             0.023620  \n",
       "91             0.040323  \n",
       "96             0.024251  \n",
       "113            0.057268  \n",
       "119            0.053044  \n",
       "125            0.023206  \n",
       "134            0.066783  \n",
       "139            0.037981  \n",
       "146            0.042288  \n",
       "160            0.017709  \n",
       "201            0.027399  \n",
       "215            0.026781  \n",
       "222            0.064251  \n",
       "225            0.034510  \n",
       "232            0.023747  \n",
       "236            0.024525  \n",
       "241            0.068212  \n",
       "245            0.051497  \n",
       "269            0.026775  \n",
       "270            0.084977  \n",
       "281            0.017023  "
      ]
     },
     "execution_count": 37,
     "metadata": {},
     "output_type": "execute_result"
    }
   ],
   "source": [
    "df_1.loc[df_1['authenticity_score'] <= 0.1]"
   ]
  },
  {
   "cell_type": "code",
   "execution_count": 38,
   "id": "0be502ff-c3e6-4ba5-99fb-ef3e60272822",
   "metadata": {},
   "outputs": [
    {
     "data": {
      "text/html": [
       "<div>\n",
       "<style scoped>\n",
       "    .dataframe tbody tr th:only-of-type {\n",
       "        vertical-align: middle;\n",
       "    }\n",
       "\n",
       "    .dataframe tbody tr th {\n",
       "        vertical-align: top;\n",
       "    }\n",
       "\n",
       "    .dataframe thead th {\n",
       "        text-align: right;\n",
       "    }\n",
       "</style>\n",
       "<table border=\"1\" class=\"dataframe\">\n",
       "  <thead>\n",
       "    <tr style=\"text-align: right;\">\n",
       "      <th></th>\n",
       "      <th>id</th>\n",
       "      <th>document_text</th>\n",
       "      <th>authenticity_score</th>\n",
       "    </tr>\n",
       "  </thead>\n",
       "  <tbody>\n",
       "    <tr>\n",
       "      <th>35</th>\n",
       "      <td>54003001</td>\n",
       "      <td>This is a true saying, If a man desire the off...</td>\n",
       "      <td>0.090994</td>\n",
       "    </tr>\n",
       "    <tr>\n",
       "      <th>48</th>\n",
       "      <td>54003014</td>\n",
       "      <td>These things write I unto thee, hoping to come...</td>\n",
       "      <td>0.018925</td>\n",
       "    </tr>\n",
       "    <tr>\n",
       "      <th>57</th>\n",
       "      <td>54004007</td>\n",
       "      <td>But refuse profane and old wives' fables, and ...</td>\n",
       "      <td>0.027976</td>\n",
       "    </tr>\n",
       "    <tr>\n",
       "      <th>58</th>\n",
       "      <td>54004008</td>\n",
       "      <td>For bodily exercise profiteth little: but godl...</td>\n",
       "      <td>0.032052</td>\n",
       "    </tr>\n",
       "    <tr>\n",
       "      <th>61</th>\n",
       "      <td>54004011</td>\n",
       "      <td>These things command and teach.</td>\n",
       "      <td>0.025458</td>\n",
       "    </tr>\n",
       "    <tr>\n",
       "      <th>64</th>\n",
       "      <td>54004014</td>\n",
       "      <td>Neglect not the gift that is in thee, which wa...</td>\n",
       "      <td>0.032351</td>\n",
       "    </tr>\n",
       "    <tr>\n",
       "      <th>93</th>\n",
       "      <td>54006002</td>\n",
       "      <td>And they that have believing masters, let them...</td>\n",
       "      <td>0.035111</td>\n",
       "    </tr>\n",
       "    <tr>\n",
       "      <th>95</th>\n",
       "      <td>54006004</td>\n",
       "      <td>He is proud, knowing nothing, but doting about...</td>\n",
       "      <td>0.027843</td>\n",
       "    </tr>\n",
       "    <tr>\n",
       "      <th>96</th>\n",
       "      <td>54006005</td>\n",
       "      <td>Perverse disputings of men of corrupt minds, a...</td>\n",
       "      <td>0.026542</td>\n",
       "    </tr>\n",
       "    <tr>\n",
       "      <th>100</th>\n",
       "      <td>54006009</td>\n",
       "      <td>But they that will be rich fall into temptatio...</td>\n",
       "      <td>0.032573</td>\n",
       "    </tr>\n",
       "    <tr>\n",
       "      <th>101</th>\n",
       "      <td>54006010</td>\n",
       "      <td>For the love of money is the root of all evil:...</td>\n",
       "      <td>0.021651</td>\n",
       "    </tr>\n",
       "    <tr>\n",
       "      <th>111</th>\n",
       "      <td>54006020</td>\n",
       "      <td>O Timothy, keep that which is committed to thy...</td>\n",
       "      <td>0.057226</td>\n",
       "    </tr>\n",
       "    <tr>\n",
       "      <th>126</th>\n",
       "      <td>55001014</td>\n",
       "      <td>That good thing which was committed unto thee ...</td>\n",
       "      <td>0.024952</td>\n",
       "    </tr>\n",
       "    <tr>\n",
       "      <th>144</th>\n",
       "      <td>55002014</td>\n",
       "      <td>Of these things put them in remembrance, charg...</td>\n",
       "      <td>0.027012</td>\n",
       "    </tr>\n",
       "    <tr>\n",
       "      <th>148</th>\n",
       "      <td>55002018</td>\n",
       "      <td>Who concerning the truth have erred, saying th...</td>\n",
       "      <td>0.062298</td>\n",
       "    </tr>\n",
       "    <tr>\n",
       "      <th>152</th>\n",
       "      <td>55002022</td>\n",
       "      <td>Flee also youthful lusts: but follow righteous...</td>\n",
       "      <td>0.019268</td>\n",
       "    </tr>\n",
       "    <tr>\n",
       "      <th>162</th>\n",
       "      <td>55003006</td>\n",
       "      <td>For of this sort are they which creep into hou...</td>\n",
       "      <td>0.027000</td>\n",
       "    </tr>\n",
       "    <tr>\n",
       "      <th>164</th>\n",
       "      <td>55003008</td>\n",
       "      <td>Now as Jannes and Jambres withstood Moses, so ...</td>\n",
       "      <td>0.063510</td>\n",
       "    </tr>\n",
       "    <tr>\n",
       "      <th>169</th>\n",
       "      <td>55003013</td>\n",
       "      <td>But evil men and seducers shall wax worse and ...</td>\n",
       "      <td>0.032169</td>\n",
       "    </tr>\n",
       "    <tr>\n",
       "      <th>177</th>\n",
       "      <td>55004004</td>\n",
       "      <td>And they shall turn away their ears from the t...</td>\n",
       "      <td>0.028749</td>\n",
       "    </tr>\n",
       "    <tr>\n",
       "      <th>204</th>\n",
       "      <td>56001009</td>\n",
       "      <td>Holding fast the faithful word as he hath been...</td>\n",
       "      <td>0.047984</td>\n",
       "    </tr>\n",
       "    <tr>\n",
       "      <th>207</th>\n",
       "      <td>56001012</td>\n",
       "      <td>One of themselves, even a prophet of their own...</td>\n",
       "      <td>0.035606</td>\n",
       "    </tr>\n",
       "    <tr>\n",
       "      <th>209</th>\n",
       "      <td>56001014</td>\n",
       "      <td>Not giving heed to Jewish fables, and commandm...</td>\n",
       "      <td>0.035173</td>\n",
       "    </tr>\n",
       "    <tr>\n",
       "      <th>225</th>\n",
       "      <td>56002014</td>\n",
       "      <td>Who gave himself for us, that he might redeem ...</td>\n",
       "      <td>0.052231</td>\n",
       "    </tr>\n",
       "    <tr>\n",
       "      <th>226</th>\n",
       "      <td>56002015</td>\n",
       "      <td>These things speak, and exhort, and rebuke wit...</td>\n",
       "      <td>0.018128</td>\n",
       "    </tr>\n",
       "    <tr>\n",
       "      <th>234</th>\n",
       "      <td>56003008</td>\n",
       "      <td>This is a faithful saying, and these things I ...</td>\n",
       "      <td>0.027028</td>\n",
       "    </tr>\n",
       "    <tr>\n",
       "      <th>237</th>\n",
       "      <td>56003011</td>\n",
       "      <td>Knowing that he that is such is subverted, and...</td>\n",
       "      <td>0.071580</td>\n",
       "    </tr>\n",
       "  </tbody>\n",
       "</table>\n",
       "</div>"
      ],
      "text/plain": [
       "           id                                      document_text  \\\n",
       "35   54003001  This is a true saying, If a man desire the off...   \n",
       "48   54003014  These things write I unto thee, hoping to come...   \n",
       "57   54004007  But refuse profane and old wives' fables, and ...   \n",
       "58   54004008  For bodily exercise profiteth little: but godl...   \n",
       "61   54004011                    These things command and teach.   \n",
       "64   54004014  Neglect not the gift that is in thee, which wa...   \n",
       "93   54006002  And they that have believing masters, let them...   \n",
       "95   54006004  He is proud, knowing nothing, but doting about...   \n",
       "96   54006005  Perverse disputings of men of corrupt minds, a...   \n",
       "100  54006009  But they that will be rich fall into temptatio...   \n",
       "101  54006010  For the love of money is the root of all evil:...   \n",
       "111  54006020  O Timothy, keep that which is committed to thy...   \n",
       "126  55001014  That good thing which was committed unto thee ...   \n",
       "144  55002014  Of these things put them in remembrance, charg...   \n",
       "148  55002018  Who concerning the truth have erred, saying th...   \n",
       "152  55002022  Flee also youthful lusts: but follow righteous...   \n",
       "162  55003006  For of this sort are they which creep into hou...   \n",
       "164  55003008  Now as Jannes and Jambres withstood Moses, so ...   \n",
       "169  55003013  But evil men and seducers shall wax worse and ...   \n",
       "177  55004004  And they shall turn away their ears from the t...   \n",
       "204  56001009  Holding fast the faithful word as he hath been...   \n",
       "207  56001012  One of themselves, even a prophet of their own...   \n",
       "209  56001014  Not giving heed to Jewish fables, and commandm...   \n",
       "225  56002014  Who gave himself for us, that he might redeem ...   \n",
       "226  56002015  These things speak, and exhort, and rebuke wit...   \n",
       "234  56003008  This is a faithful saying, and these things I ...   \n",
       "237  56003011  Knowing that he that is such is subverted, and...   \n",
       "\n",
       "     authenticity_score  \n",
       "35             0.090994  \n",
       "48             0.018925  \n",
       "57             0.027976  \n",
       "58             0.032052  \n",
       "61             0.025458  \n",
       "64             0.032351  \n",
       "93             0.035111  \n",
       "95             0.027843  \n",
       "96             0.026542  \n",
       "100            0.032573  \n",
       "101            0.021651  \n",
       "111            0.057226  \n",
       "126            0.024952  \n",
       "144            0.027012  \n",
       "148            0.062298  \n",
       "152            0.019268  \n",
       "162            0.027000  \n",
       "164            0.063510  \n",
       "169            0.032169  \n",
       "177            0.028749  \n",
       "204            0.047984  \n",
       "207            0.035606  \n",
       "209            0.035173  \n",
       "225            0.052231  \n",
       "226            0.018128  \n",
       "234            0.027028  \n",
       "237            0.071580  "
      ]
     },
     "execution_count": 38,
     "metadata": {},
     "output_type": "execute_result"
    }
   ],
   "source": [
    "df_2.loc[df_2['authenticity_score'] <= 0.1]"
   ]
  },
  {
   "cell_type": "code",
   "execution_count": 39,
   "id": "6c71d6a3-8b9b-4bc6-b8e7-c100501f7162",
   "metadata": {},
   "outputs": [
    {
     "data": {
      "text/html": [
       "<div>\n",
       "<style scoped>\n",
       "    .dataframe tbody tr th:only-of-type {\n",
       "        vertical-align: middle;\n",
       "    }\n",
       "\n",
       "    .dataframe tbody tr th {\n",
       "        vertical-align: top;\n",
       "    }\n",
       "\n",
       "    .dataframe thead th {\n",
       "        text-align: right;\n",
       "    }\n",
       "</style>\n",
       "<table border=\"1\" class=\"dataframe\">\n",
       "  <thead>\n",
       "    <tr style=\"text-align: right;\">\n",
       "      <th></th>\n",
       "      <th>id</th>\n",
       "      <th>document_text</th>\n",
       "      <th>authenticity_score</th>\n",
       "    </tr>\n",
       "  </thead>\n",
       "  <tbody>\n",
       "    <tr>\n",
       "      <th>1</th>\n",
       "      <td>58001002</td>\n",
       "      <td>Hath in these last days spoken unto us by his ...</td>\n",
       "      <td>0.028930</td>\n",
       "    </tr>\n",
       "    <tr>\n",
       "      <th>6</th>\n",
       "      <td>58001007</td>\n",
       "      <td>And of the angels he saith, Who maketh his ang...</td>\n",
       "      <td>0.023900</td>\n",
       "    </tr>\n",
       "    <tr>\n",
       "      <th>7</th>\n",
       "      <td>58001008</td>\n",
       "      <td>But unto the Son he saith, Thy throne, O God, ...</td>\n",
       "      <td>0.036741</td>\n",
       "    </tr>\n",
       "    <tr>\n",
       "      <th>43</th>\n",
       "      <td>58003012</td>\n",
       "      <td>Take heed, brethren, lest there be in any of y...</td>\n",
       "      <td>0.077296</td>\n",
       "    </tr>\n",
       "    <tr>\n",
       "      <th>46</th>\n",
       "      <td>58003015</td>\n",
       "      <td>While it is said, To day if ye will hear his v...</td>\n",
       "      <td>0.038481</td>\n",
       "    </tr>\n",
       "    <tr>\n",
       "      <th>62</th>\n",
       "      <td>58004012</td>\n",
       "      <td>For the word of God is quick, and powerful, an...</td>\n",
       "      <td>0.045972</td>\n",
       "    </tr>\n",
       "    <tr>\n",
       "      <th>73</th>\n",
       "      <td>58005007</td>\n",
       "      <td>Who in the days of his flesh, when he had offe...</td>\n",
       "      <td>0.034704</td>\n",
       "    </tr>\n",
       "    <tr>\n",
       "      <th>87</th>\n",
       "      <td>58006007</td>\n",
       "      <td>For the earth which drinketh in the rain that ...</td>\n",
       "      <td>0.026635</td>\n",
       "    </tr>\n",
       "    <tr>\n",
       "      <th>90</th>\n",
       "      <td>58006010</td>\n",
       "      <td>For God is not unrighteous to forget your work...</td>\n",
       "      <td>0.024667</td>\n",
       "    </tr>\n",
       "    <tr>\n",
       "      <th>133</th>\n",
       "      <td>58008005</td>\n",
       "      <td>Who serve unto the example and shadow of heave...</td>\n",
       "      <td>0.090776</td>\n",
       "    </tr>\n",
       "    <tr>\n",
       "      <th>141</th>\n",
       "      <td>58008013</td>\n",
       "      <td>In that he saith, A new covenant, he hath made...</td>\n",
       "      <td>0.020134</td>\n",
       "    </tr>\n",
       "    <tr>\n",
       "      <th>170</th>\n",
       "      <td>58010001</td>\n",
       "      <td>For the law having a shadow of good things to ...</td>\n",
       "      <td>0.055706</td>\n",
       "    </tr>\n",
       "    <tr>\n",
       "      <th>196</th>\n",
       "      <td>58010027</td>\n",
       "      <td>But a certain fearful looking for of judgment ...</td>\n",
       "      <td>0.061896</td>\n",
       "    </tr>\n",
       "    <tr>\n",
       "      <th>220</th>\n",
       "      <td>58011012</td>\n",
       "      <td>Therefore sprang there even of one, and him as...</td>\n",
       "      <td>0.073824</td>\n",
       "    </tr>\n",
       "    <tr>\n",
       "      <th>221</th>\n",
       "      <td>58011013</td>\n",
       "      <td>These all died in faith, not having received t...</td>\n",
       "      <td>0.037740</td>\n",
       "    </tr>\n",
       "    <tr>\n",
       "      <th>239</th>\n",
       "      <td>58011031</td>\n",
       "      <td>By faith the harlot Rahab perished not with th...</td>\n",
       "      <td>0.056763</td>\n",
       "    </tr>\n",
       "    <tr>\n",
       "      <th>251</th>\n",
       "      <td>58012003</td>\n",
       "      <td>For consider him that endured such contradicti...</td>\n",
       "      <td>0.057346</td>\n",
       "    </tr>\n",
       "    <tr>\n",
       "      <th>252</th>\n",
       "      <td>58012004</td>\n",
       "      <td>Ye have not yet resisted unto blood, striving ...</td>\n",
       "      <td>0.077669</td>\n",
       "    </tr>\n",
       "    <tr>\n",
       "      <th>253</th>\n",
       "      <td>58012005</td>\n",
       "      <td>And ye have forgotten the exhortation which sp...</td>\n",
       "      <td>0.022740</td>\n",
       "    </tr>\n",
       "    <tr>\n",
       "      <th>254</th>\n",
       "      <td>58012006</td>\n",
       "      <td>For whom the Lord loveth he chasteneth, and sc...</td>\n",
       "      <td>0.019970</td>\n",
       "    </tr>\n",
       "    <tr>\n",
       "      <th>266</th>\n",
       "      <td>58012018</td>\n",
       "      <td>For ye are not come unto the mount that might ...</td>\n",
       "      <td>0.035334</td>\n",
       "    </tr>\n",
       "    <tr>\n",
       "      <th>281</th>\n",
       "      <td>58013004</td>\n",
       "      <td>Marriage is honourable in all, and the bed und...</td>\n",
       "      <td>0.056208</td>\n",
       "    </tr>\n",
       "    <tr>\n",
       "      <th>284</th>\n",
       "      <td>58013007</td>\n",
       "      <td>Remember them which have the rule over you, wh...</td>\n",
       "      <td>0.073376</td>\n",
       "    </tr>\n",
       "    <tr>\n",
       "      <th>294</th>\n",
       "      <td>58013017</td>\n",
       "      <td>Obey them that have the rule over you, and sub...</td>\n",
       "      <td>0.025729</td>\n",
       "    </tr>\n",
       "  </tbody>\n",
       "</table>\n",
       "</div>"
      ],
      "text/plain": [
       "           id                                      document_text  \\\n",
       "1    58001002  Hath in these last days spoken unto us by his ...   \n",
       "6    58001007  And of the angels he saith, Who maketh his ang...   \n",
       "7    58001008  But unto the Son he saith, Thy throne, O God, ...   \n",
       "43   58003012  Take heed, brethren, lest there be in any of y...   \n",
       "46   58003015  While it is said, To day if ye will hear his v...   \n",
       "62   58004012  For the word of God is quick, and powerful, an...   \n",
       "73   58005007  Who in the days of his flesh, when he had offe...   \n",
       "87   58006007  For the earth which drinketh in the rain that ...   \n",
       "90   58006010  For God is not unrighteous to forget your work...   \n",
       "133  58008005  Who serve unto the example and shadow of heave...   \n",
       "141  58008013  In that he saith, A new covenant, he hath made...   \n",
       "170  58010001  For the law having a shadow of good things to ...   \n",
       "196  58010027  But a certain fearful looking for of judgment ...   \n",
       "220  58011012  Therefore sprang there even of one, and him as...   \n",
       "221  58011013  These all died in faith, not having received t...   \n",
       "239  58011031  By faith the harlot Rahab perished not with th...   \n",
       "251  58012003  For consider him that endured such contradicti...   \n",
       "252  58012004  Ye have not yet resisted unto blood, striving ...   \n",
       "253  58012005  And ye have forgotten the exhortation which sp...   \n",
       "254  58012006  For whom the Lord loveth he chasteneth, and sc...   \n",
       "266  58012018  For ye are not come unto the mount that might ...   \n",
       "281  58013004  Marriage is honourable in all, and the bed und...   \n",
       "284  58013007  Remember them which have the rule over you, wh...   \n",
       "294  58013017  Obey them that have the rule over you, and sub...   \n",
       "\n",
       "     authenticity_score  \n",
       "1              0.028930  \n",
       "6              0.023900  \n",
       "7              0.036741  \n",
       "43             0.077296  \n",
       "46             0.038481  \n",
       "62             0.045972  \n",
       "73             0.034704  \n",
       "87             0.026635  \n",
       "90             0.024667  \n",
       "133            0.090776  \n",
       "141            0.020134  \n",
       "170            0.055706  \n",
       "196            0.061896  \n",
       "220            0.073824  \n",
       "221            0.037740  \n",
       "239            0.056763  \n",
       "251            0.057346  \n",
       "252            0.077669  \n",
       "253            0.022740  \n",
       "254            0.019970  \n",
       "266            0.035334  \n",
       "281            0.056208  \n",
       "284            0.073376  \n",
       "294            0.025729  "
      ]
     },
     "execution_count": 39,
     "metadata": {},
     "output_type": "execute_result"
    }
   ],
   "source": [
    "df_3.loc[df_3['authenticity_score'] <= 0.1]"
   ]
  },
  {
   "cell_type": "code",
   "execution_count": 43,
   "id": "108932f9-2fbc-4a43-8e29-fbc863c17aa5",
   "metadata": {},
   "outputs": [
    {
     "data": {
      "image/png": "[encoded data removed]",
      "text/plain": [
       "<Figure size 720x432 with 1 Axes>"
      ]
     },
     "metadata": {
      "image/png": {
       "height": 372,
       "width": 610
      },
      "needs_background": "light"
     },
     "output_type": "display_data"
    }
   ],
   "source": [
    "import matplotlib.pyplot as plt\n",
    "\n",
    "data = df_1['authenticity_score']\n",
    "mean = df_1['authenticity_score'].mean()\n",
    "std = df_1['authenticity_score'].std()\n",
    "min_value = min(data)\n",
    "max_value = max(data)\n",
    "\n",
    "plt.title(\"Paul_1\")\n",
    "plt.ylim(min_value - 0.5, max_value + 0.5)\n",
    "plt.scatter(x=df_1.index, y=df_1['authenticity_score'])\n",
    "plt.hlines(y=mean, xmin=0, xmax=len(data))\n",
    "plt.show()"
   ]
  },
  {
   "cell_type": "code",
   "execution_count": 44,
   "id": "87fa2d74-33f0-40ba-a77c-dce914c2cf91",
   "metadata": {},
   "outputs": [
    {
     "data": {
      "image/png": "[encoded data removed]",
      "text/plain": [
       "<Figure size 720x432 with 1 Axes>"
      ]
     },
     "metadata": {
      "image/png": {
       "height": 372,
       "width": 596
      },
      "needs_background": "light"
     },
     "output_type": "display_data"
    }
   ],
   "source": [
    "import matplotlib.pyplot as plt\n",
    "\n",
    "data = df_2['authenticity_score']\n",
    "mean = df_2['authenticity_score'].mean()\n",
    "std = df_2['authenticity_score'].std()\n",
    "min_value = min(data)\n",
    "max_value = max(data)\n",
    "\n",
    "plt.title(\"Paul_2\")\n",
    "plt.ylim(min_value - 0.1, max_value + 0.1)\n",
    "plt.scatter(x=df_2.index, y=df_2['authenticity_score'])\n",
    "plt.hlines(y=mean, xmin=0, xmax=len(data))\n",
    "plt.show()"
   ]
  },
  {
   "cell_type": "code",
   "execution_count": null,
   "id": "7a4435a0-5f5f-4472-a92d-206849710a2b",
   "metadata": {},
   "outputs": [],
   "source": []
  }
 ],
 "metadata": {
  "kernelspec": {
   "display_name": "Python 3",
   "language": "python",
   "name": "python3"
  },
  "language_info": {
   "codemirror_mode": {
    "name": "ipython",
    "version": 3
   },
   "file_extension": ".py",
   "mimetype": "text/x-python",
   "name": "python",
   "nbconvert_exporter": "python",
   "pygments_lexer": "ipython3",
   "version": "3.9.5"
  }
 },
 "nbformat": 4,
 "nbformat_minor": 5
}
